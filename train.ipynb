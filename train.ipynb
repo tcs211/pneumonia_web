{
 "cells": [
  {
   "cell_type": "markdown",
   "metadata": {},
   "source": [
    "## efficientnet model for chest x-ray images"
   ]
  },
  {
   "cell_type": "code",
   "execution_count": null,
   "metadata": {
    "_cell_guid": "b1076dfc-b9ad-4769-8c92-a6c4dae69d19",
    "_kg_hide-output": true,
    "_uuid": "8f2839f25d086af736a60e9eeb907d3b93b6e0e5",
    "collapsed": true,
    "jupyter": {
     "outputs_hidden": true
    },
    "trusted": true
   },
   "outputs": [
    {
     "name": "stderr",
     "output_type": "stream",
     "text": [
      "c:\\ProgramData\\mne-python\\1.5.1_0\\envs\\CU121\\lib\\site-packages\\torchvision\\models\\_utils.py:208: UserWarning: The parameter 'pretrained' is deprecated since 0.13 and may be removed in the future, please use 'weights' instead.\n",
      "  warnings.warn(\n",
      "c:\\ProgramData\\mne-python\\1.5.1_0\\envs\\CU121\\lib\\site-packages\\torchvision\\models\\_utils.py:223: UserWarning: Arguments other than a weight enum or `None` for 'weights' are deprecated since 0.13 and may be removed in the future. The current behavior is equivalent to passing `weights=EfficientNet_B0_Weights.IMAGENET1K_V1`. You can also use `weights=EfficientNet_B0_Weights.DEFAULT` to get the most up-to-date weights.\n",
      "  warnings.warn(msg)\n"
     ]
    },
    {
     "name": "stdout",
     "output_type": "stream",
     "text": [
      "\n",
      "Training efficientnet_b0...\n",
      "Training efficientnet_b0 for 10 epochs...\n",
      "\n",
      "Epoch 1/10\n"
     ]
    },
    {
     "name": "stderr",
     "output_type": "stream",
     "text": [
      "                                                                                    \r"
     ]
    },
    {
     "name": "stdout",
     "output_type": "stream",
     "text": [
      "Train Loss: 0.1605, Train Acc: 93.42%\n",
      "Val Loss: 0.4586, Val Acc: 75.00%\n",
      "New best model saved! Validation Accuracy: 75.00%\n",
      "\n",
      "Epoch 2/10\n"
     ]
    },
    {
     "name": "stderr",
     "output_type": "stream",
     "text": [
      "                                                                                    \r"
     ]
    },
    {
     "name": "stdout",
     "output_type": "stream",
     "text": [
      "Train Loss: 0.1056, Train Acc: 96.38%\n",
      "Val Loss: 0.2607, Val Acc: 93.75%\n",
      "New best model saved! Validation Accuracy: 93.75%\n",
      "\n",
      "Epoch 3/10\n"
     ]
    },
    {
     "name": "stderr",
     "output_type": "stream",
     "text": [
      "                                                                                    \r"
     ]
    },
    {
     "name": "stdout",
     "output_type": "stream",
     "text": [
      "Train Loss: 0.0873, Train Acc: 96.72%\n",
      "Val Loss: 0.2831, Val Acc: 87.50%\n",
      "\n",
      "Epoch 4/10\n"
     ]
    },
    {
     "name": "stderr",
     "output_type": "stream",
     "text": [
      "                                                                                    \r"
     ]
    },
    {
     "name": "stdout",
     "output_type": "stream",
     "text": [
      "Train Loss: 0.0732, Train Acc: 97.64%\n",
      "Val Loss: 0.1444, Val Acc: 100.00%\n",
      "New best model saved! Validation Accuracy: 100.00%\n",
      "\n",
      "Epoch 5/10\n"
     ]
    },
    {
     "name": "stderr",
     "output_type": "stream",
     "text": [
      "                                                                                    \r"
     ]
    },
    {
     "name": "stdout",
     "output_type": "stream",
     "text": [
      "Train Loss: 0.0665, Train Acc: 97.93%\n",
      "Val Loss: 0.0934, Val Acc: 100.00%\n",
      "\n",
      "Epoch 6/10\n"
     ]
    },
    {
     "name": "stderr",
     "output_type": "stream",
     "text": [
      "                                                                                    \r"
     ]
    },
    {
     "name": "stdout",
     "output_type": "stream",
     "text": [
      "Train Loss: 0.0566, Train Acc: 97.97%\n",
      "Val Loss: 0.0857, Val Acc: 100.00%\n",
      "\n",
      "Epoch 7/10\n"
     ]
    },
    {
     "name": "stderr",
     "output_type": "stream",
     "text": [
      "                                                                                    \r"
     ]
    },
    {
     "name": "stdout",
     "output_type": "stream",
     "text": [
      "Train Loss: 0.0503, Train Acc: 98.22%\n",
      "Val Loss: 0.3427, Val Acc: 75.00%\n",
      "\n",
      "Epoch 8/10\n"
     ]
    },
    {
     "name": "stderr",
     "output_type": "stream",
     "text": [
      "                                                                                    \r"
     ]
    },
    {
     "name": "stdout",
     "output_type": "stream",
     "text": [
      "Train Loss: 0.0432, Train Acc: 98.41%\n",
      "Val Loss: 0.0361, Val Acc: 100.00%\n",
      "\n",
      "Epoch 9/10\n"
     ]
    },
    {
     "name": "stderr",
     "output_type": "stream",
     "text": [
      "                                                                                    \r"
     ]
    },
    {
     "name": "stdout",
     "output_type": "stream",
     "text": [
      "Train Loss: 0.0426, Train Acc: 98.62%\n",
      "Val Loss: 0.1713, Val Acc: 87.50%\n",
      "\n",
      "Epoch 10/10\n"
     ]
    },
    {
     "name": "stderr",
     "output_type": "stream",
     "text": [
      "                                                                                    \r"
     ]
    },
    {
     "name": "stdout",
     "output_type": "stream",
     "text": [
      "Train Loss: 0.0348, Train Acc: 98.85%\n",
      "Val Loss: 0.0595, Val Acc: 100.00%\n"
     ]
    },
    {
     "name": "stderr",
     "output_type": "stream",
     "text": [
      "d:\\Projects\\pneumonia\\pneumonia_web\\PNModel.py:249: FutureWarning: You are using `torch.load` with `weights_only=False` (the current default value), which uses the default pickle module implicitly. It is possible to construct malicious pickle data which will execute arbitrary code during unpickling (See https://github.com/pytorch/pytorch/blob/main/SECURITY.md#untrusted-models for more details). In a future release, the default value for `weights_only` will be flipped to `True`. This limits the functions that could be executed during unpickling. Arbitrary objects will no longer be allowed to be loaded via this mode unless they are explicitly allowlisted by the user via `torch.serialization.add_safe_globals`. We recommend you start setting `weights_only=True` for any use case where you don't have full control of the loaded file. Please open an issue on GitHub for any issues related to this experimental feature.\n",
      "  best_checkpoint = torch.load(config.checkpoint_dir / 'best_model.pth')\n"
     ]
    },
    {
     "name": "stdout",
     "output_type": "stream",
     "text": [
      "\n",
      "Evaluating best model on test set...\n"
     ]
    },
    {
     "name": "stderr",
     "output_type": "stream",
     "text": [
      "                                                                                    \r"
     ]
    },
    {
     "name": "stdout",
     "output_type": "stream",
     "text": [
      "Test Accuracy: 94.55%\n",
      "\n",
      "Generating classification report...\n"
     ]
    },
    {
     "name": "stderr",
     "output_type": "stream",
     "text": [
      "Processing test data: 100%|██████████| 39/39 [00:07<00:00,  5.44it/s]\n"
     ]
    },
    {
     "name": "stdout",
     "output_type": "stream",
     "text": [
      "\n",
      "Classification Report:\n",
      "              precision    recall  f1-score   support\n",
      "\n",
      "      NORMAL       0.92      0.94      0.93       234\n",
      "   PNEUMONIA       0.96      0.95      0.96       390\n",
      "\n",
      "    accuracy                           0.95       624\n",
      "   macro avg       0.94      0.94      0.94       624\n",
      "weighted avg       0.95      0.95      0.95       624\n",
      "\n",
      "\n",
      "Final Results:\n",
      "efficientnet_b0: 94.55%\n"
     ]
    }
   ],
   "source": [
    "import os\n",
    "import numpy as np\n",
    "import pandas as pd\n",
    "import torch\n",
    "import torch.nn as nn\n",
    "import torch.optim as optim\n",
    "from torch.utils.data import Dataset, DataLoader\n",
    "from torchvision import transforms, models\n",
    "from PIL import Image\n",
    "from sklearn.metrics import confusion_matrix, classification_report\n",
    "from tqdm import tqdm\n",
    "import json\n",
    "from pathlib import Path\n",
    "from PNModel import ChestXRayDataset, ChestXRayModel, TrainingConfig, train_model, plot_training_history, create_data_loaders\n",
    "\n",
    "# Set random seed for reproducibility\n",
    "torch.manual_seed(123)\n",
    "np.random.seed(123)\n",
    "\n",
    "\n",
    "# Generate data paths with labels\n",
    "data_dir = '../chest_xray/train'\n",
    "\n",
    "filepaths = []\n",
    "labels = []\n",
    "\n",
    "valid_dir = '../chest_xray/val'\n",
    "test_dir = '../chest_xray/test'\n",
    "\n",
    "valid_filepaths = []\n",
    "valid_labels = []\n",
    "\n",
    "test_filepaths = []\n",
    "test_labels = []\n",
    "\n",
    "\n",
    "# Data loading functions\n",
    "def get_data(data_dir):\n",
    "    filepaths = []\n",
    "    labels = []\n",
    "    folds = os.listdir(data_dir)\n",
    "    for fold in folds:\n",
    "        foldpath = os.path.join(data_dir, fold)\n",
    "        filelist = os.listdir(foldpath)\n",
    "        for file in filelist:\n",
    "            fpath = os.path.join(foldpath, file)\n",
    "            filepaths.append(fpath)\n",
    "            labels.append(fold)\n",
    "    return filepaths, labels\n",
    "\n",
    "filepaths, labels = get_data(data_dir)\n",
    "valid_filepaths, valid_labels = get_data(valid_dir)\n",
    "test_filepaths, test_labels = get_data(test_dir)\n",
    "\n",
    "# Create dataframe\n",
    "df = pd.DataFrame({\n",
    "    'filepaths': filepaths,\n",
    "    'labels': labels\n",
    "})\n",
    "\n",
    "# load train data\n",
    "train_df = pd.DataFrame({ 'filepaths': filepaths, 'labels': labels })\n",
    "valid_df = pd.DataFrame({ 'filepaths': valid_filepaths, 'labels': valid_labels })\n",
    "test_df = pd.DataFrame({ 'filepaths': test_filepaths, 'labels': test_labels })\n",
    "# Main execution\n",
    "if __name__ == \"__main__\":\n",
    "    # ... (Previous data loading code remains the same) ...\n",
    "    \n",
    "    models_to_try = [\n",
    "        # TrainingConfig('efficientnet_b0', batch_size=16),\n",
    "        TrainingConfig('efficientnet_b0', batch_size=16, num_epochs=10),\n",
    "    ]\n",
    "    \n",
    "    # Train and evaluate each model\n",
    "    results = {}\n",
    "    for config in models_to_try:\n",
    "        print(f\"\\nTraining {config.model_name}...\")\n",
    "        model, test_acc, history = train_model(config, train_df, valid_df, test_df)\n",
    "        results[config.model_name] = {\n",
    "            'test_acc': test_acc,\n",
    "            'history': history\n",
    "        }\n",
    "        \n",
    "        # Plot and save training history\n",
    "        plt = plot_training_history(history)\n",
    "        plt.savefig(config.checkpoint_dir / 'training_history.png')\n",
    "        plt.close()\n",
    "    \n",
    "    # Print final results\n",
    "    print(\"\\nFinal Results:\")\n",
    "    for model_name, result in results.items():\n",
    "        print(f\"{model_name}: {result['test_acc']:.2f}%\")"
   ]
  },
  {
   "cell_type": "markdown",
   "metadata": {},
   "source": [
    "## test performance of efficientnet model on chest x-ray images"
   ]
  },
  {
   "cell_type": "code",
   "execution_count": 7,
   "metadata": {},
   "outputs": [
    {
     "name": "stderr",
     "output_type": "stream",
     "text": [
      "c:\\ProgramData\\mne-python\\1.5.1_0\\envs\\CU121\\lib\\site-packages\\torchvision\\models\\_utils.py:208: UserWarning: The parameter 'pretrained' is deprecated since 0.13 and may be removed in the future, please use 'weights' instead.\n",
      "  warnings.warn(\n",
      "c:\\ProgramData\\mne-python\\1.5.1_0\\envs\\CU121\\lib\\site-packages\\torchvision\\models\\_utils.py:223: UserWarning: Arguments other than a weight enum or `None` for 'weights' are deprecated since 0.13 and may be removed in the future. The current behavior is equivalent to passing `weights=EfficientNet_B0_Weights.IMAGENET1K_V1`. You can also use `weights=EfficientNet_B0_Weights.DEFAULT` to get the most up-to-date weights.\n",
      "  warnings.warn(msg)\n"
     ]
    },
    {
     "name": "stdout",
     "output_type": "stream",
     "text": [
      "\n",
      "Evaluating efficientnet_b0 checkpoints...\n"
     ]
    },
    {
     "name": "stderr",
     "output_type": "stream",
     "text": [
      "  0%|          | 0/10 [00:00<?, ?it/s]C:\\Users\\tcs\\AppData\\Local\\Temp\\ipykernel_24636\\725163628.py:74: FutureWarning: You are using `torch.load` with `weights_only=False` (the current default value), which uses the default pickle module implicitly. It is possible to construct malicious pickle data which will execute arbitrary code during unpickling (See https://github.com/pytorch/pytorch/blob/main/SECURITY.md#untrusted-models for more details). In a future release, the default value for `weights_only` will be flipped to `True`. This limits the functions that could be executed during unpickling. Arbitrary objects will no longer be allowed to be loaded via this mode unless they are explicitly allowlisted by the user via `torch.serialization.add_safe_globals`. We recommend you start setting `weights_only=True` for any use case where you don't have full control of the loaded file. Please open an issue on GitHub for any issues related to this experimental feature.\n",
      "  checkpoint = torch.load(checkpoint_path)\n",
      " 10%|█         | 1/10 [00:07<01:08,  7.57s/it]C:\\Users\\tcs\\AppData\\Local\\Temp\\ipykernel_24636\\725163628.py:74: FutureWarning: You are using `torch.load` with `weights_only=False` (the current default value), which uses the default pickle module implicitly. It is possible to construct malicious pickle data which will execute arbitrary code during unpickling (See https://github.com/pytorch/pytorch/blob/main/SECURITY.md#untrusted-models for more details). In a future release, the default value for `weights_only` will be flipped to `True`. This limits the functions that could be executed during unpickling. Arbitrary objects will no longer be allowed to be loaded via this mode unless they are explicitly allowlisted by the user via `torch.serialization.add_safe_globals`. We recommend you start setting `weights_only=True` for any use case where you don't have full control of the loaded file. Please open an issue on GitHub for any issues related to this experimental feature.\n",
      "  checkpoint = torch.load(checkpoint_path)\n",
      "c:\\ProgramData\\mne-python\\1.5.1_0\\envs\\CU121\\lib\\site-packages\\sklearn\\metrics\\_classification.py:386: UserWarning: A single label was found in 'y_true' and 'y_pred'. For the confusion matrix to have the correct shape, use the 'labels' parameter to pass all known labels.\n",
      "  warnings.warn(\n",
      " 20%|██        | 2/10 [00:15<01:00,  7.56s/it]C:\\Users\\tcs\\AppData\\Local\\Temp\\ipykernel_24636\\725163628.py:74: FutureWarning: You are using `torch.load` with `weights_only=False` (the current default value), which uses the default pickle module implicitly. It is possible to construct malicious pickle data which will execute arbitrary code during unpickling (See https://github.com/pytorch/pytorch/blob/main/SECURITY.md#untrusted-models for more details). In a future release, the default value for `weights_only` will be flipped to `True`. This limits the functions that could be executed during unpickling. Arbitrary objects will no longer be allowed to be loaded via this mode unless they are explicitly allowlisted by the user via `torch.serialization.add_safe_globals`. We recommend you start setting `weights_only=True` for any use case where you don't have full control of the loaded file. Please open an issue on GitHub for any issues related to this experimental feature.\n",
      "  checkpoint = torch.load(checkpoint_path)\n",
      " 30%|███       | 3/10 [00:22<00:53,  7.65s/it]C:\\Users\\tcs\\AppData\\Local\\Temp\\ipykernel_24636\\725163628.py:74: FutureWarning: You are using `torch.load` with `weights_only=False` (the current default value), which uses the default pickle module implicitly. It is possible to construct malicious pickle data which will execute arbitrary code during unpickling (See https://github.com/pytorch/pytorch/blob/main/SECURITY.md#untrusted-models for more details). In a future release, the default value for `weights_only` will be flipped to `True`. This limits the functions that could be executed during unpickling. Arbitrary objects will no longer be allowed to be loaded via this mode unless they are explicitly allowlisted by the user via `torch.serialization.add_safe_globals`. We recommend you start setting `weights_only=True` for any use case where you don't have full control of the loaded file. Please open an issue on GitHub for any issues related to this experimental feature.\n",
      "  checkpoint = torch.load(checkpoint_path)\n",
      "c:\\ProgramData\\mne-python\\1.5.1_0\\envs\\CU121\\lib\\site-packages\\sklearn\\metrics\\_classification.py:386: UserWarning: A single label was found in 'y_true' and 'y_pred'. For the confusion matrix to have the correct shape, use the 'labels' parameter to pass all known labels.\n",
      "  warnings.warn(\n",
      " 40%|████      | 4/10 [00:30<00:46,  7.69s/it]C:\\Users\\tcs\\AppData\\Local\\Temp\\ipykernel_24636\\725163628.py:74: FutureWarning: You are using `torch.load` with `weights_only=False` (the current default value), which uses the default pickle module implicitly. It is possible to construct malicious pickle data which will execute arbitrary code during unpickling (See https://github.com/pytorch/pytorch/blob/main/SECURITY.md#untrusted-models for more details). In a future release, the default value for `weights_only` will be flipped to `True`. This limits the functions that could be executed during unpickling. Arbitrary objects will no longer be allowed to be loaded via this mode unless they are explicitly allowlisted by the user via `torch.serialization.add_safe_globals`. We recommend you start setting `weights_only=True` for any use case where you don't have full control of the loaded file. Please open an issue on GitHub for any issues related to this experimental feature.\n",
      "  checkpoint = torch.load(checkpoint_path)\n",
      "c:\\ProgramData\\mne-python\\1.5.1_0\\envs\\CU121\\lib\\site-packages\\sklearn\\metrics\\_classification.py:386: UserWarning: A single label was found in 'y_true' and 'y_pred'. For the confusion matrix to have the correct shape, use the 'labels' parameter to pass all known labels.\n",
      "  warnings.warn(\n",
      " 50%|█████     | 5/10 [00:38<00:38,  7.77s/it]C:\\Users\\tcs\\AppData\\Local\\Temp\\ipykernel_24636\\725163628.py:74: FutureWarning: You are using `torch.load` with `weights_only=False` (the current default value), which uses the default pickle module implicitly. It is possible to construct malicious pickle data which will execute arbitrary code during unpickling (See https://github.com/pytorch/pytorch/blob/main/SECURITY.md#untrusted-models for more details). In a future release, the default value for `weights_only` will be flipped to `True`. This limits the functions that could be executed during unpickling. Arbitrary objects will no longer be allowed to be loaded via this mode unless they are explicitly allowlisted by the user via `torch.serialization.add_safe_globals`. We recommend you start setting `weights_only=True` for any use case where you don't have full control of the loaded file. Please open an issue on GitHub for any issues related to this experimental feature.\n",
      "  checkpoint = torch.load(checkpoint_path)\n",
      "c:\\ProgramData\\mne-python\\1.5.1_0\\envs\\CU121\\lib\\site-packages\\sklearn\\metrics\\_classification.py:386: UserWarning: A single label was found in 'y_true' and 'y_pred'. For the confusion matrix to have the correct shape, use the 'labels' parameter to pass all known labels.\n",
      "  warnings.warn(\n",
      " 60%|██████    | 6/10 [00:46<00:30,  7.69s/it]C:\\Users\\tcs\\AppData\\Local\\Temp\\ipykernel_24636\\725163628.py:74: FutureWarning: You are using `torch.load` with `weights_only=False` (the current default value), which uses the default pickle module implicitly. It is possible to construct malicious pickle data which will execute arbitrary code during unpickling (See https://github.com/pytorch/pytorch/blob/main/SECURITY.md#untrusted-models for more details). In a future release, the default value for `weights_only` will be flipped to `True`. This limits the functions that could be executed during unpickling. Arbitrary objects will no longer be allowed to be loaded via this mode unless they are explicitly allowlisted by the user via `torch.serialization.add_safe_globals`. We recommend you start setting `weights_only=True` for any use case where you don't have full control of the loaded file. Please open an issue on GitHub for any issues related to this experimental feature.\n",
      "  checkpoint = torch.load(checkpoint_path)\n",
      "c:\\ProgramData\\mne-python\\1.5.1_0\\envs\\CU121\\lib\\site-packages\\sklearn\\metrics\\_classification.py:386: UserWarning: A single label was found in 'y_true' and 'y_pred'. For the confusion matrix to have the correct shape, use the 'labels' parameter to pass all known labels.\n",
      "  warnings.warn(\n",
      " 70%|███████   | 7/10 [00:53<00:22,  7.61s/it]C:\\Users\\tcs\\AppData\\Local\\Temp\\ipykernel_24636\\725163628.py:74: FutureWarning: You are using `torch.load` with `weights_only=False` (the current default value), which uses the default pickle module implicitly. It is possible to construct malicious pickle data which will execute arbitrary code during unpickling (See https://github.com/pytorch/pytorch/blob/main/SECURITY.md#untrusted-models for more details). In a future release, the default value for `weights_only` will be flipped to `True`. This limits the functions that could be executed during unpickling. Arbitrary objects will no longer be allowed to be loaded via this mode unless they are explicitly allowlisted by the user via `torch.serialization.add_safe_globals`. We recommend you start setting `weights_only=True` for any use case where you don't have full control of the loaded file. Please open an issue on GitHub for any issues related to this experimental feature.\n",
      "  checkpoint = torch.load(checkpoint_path)\n",
      " 80%|████████  | 8/10 [01:01<00:15,  7.59s/it]C:\\Users\\tcs\\AppData\\Local\\Temp\\ipykernel_24636\\725163628.py:74: FutureWarning: You are using `torch.load` with `weights_only=False` (the current default value), which uses the default pickle module implicitly. It is possible to construct malicious pickle data which will execute arbitrary code during unpickling (See https://github.com/pytorch/pytorch/blob/main/SECURITY.md#untrusted-models for more details). In a future release, the default value for `weights_only` will be flipped to `True`. This limits the functions that could be executed during unpickling. Arbitrary objects will no longer be allowed to be loaded via this mode unless they are explicitly allowlisted by the user via `torch.serialization.add_safe_globals`. We recommend you start setting `weights_only=True` for any use case where you don't have full control of the loaded file. Please open an issue on GitHub for any issues related to this experimental feature.\n",
      "  checkpoint = torch.load(checkpoint_path)\n",
      " 90%|█████████ | 9/10 [01:08<00:07,  7.61s/it]C:\\Users\\tcs\\AppData\\Local\\Temp\\ipykernel_24636\\725163628.py:74: FutureWarning: You are using `torch.load` with `weights_only=False` (the current default value), which uses the default pickle module implicitly. It is possible to construct malicious pickle data which will execute arbitrary code during unpickling (See https://github.com/pytorch/pytorch/blob/main/SECURITY.md#untrusted-models for more details). In a future release, the default value for `weights_only` will be flipped to `True`. This limits the functions that could be executed during unpickling. Arbitrary objects will no longer be allowed to be loaded via this mode unless they are explicitly allowlisted by the user via `torch.serialization.add_safe_globals`. We recommend you start setting `weights_only=True` for any use case where you don't have full control of the loaded file. Please open an issue on GitHub for any issues related to this experimental feature.\n",
      "  checkpoint = torch.load(checkpoint_path)\n",
      "c:\\ProgramData\\mne-python\\1.5.1_0\\envs\\CU121\\lib\\site-packages\\sklearn\\metrics\\_classification.py:386: UserWarning: A single label was found in 'y_true' and 'y_pred'. For the confusion matrix to have the correct shape, use the 'labels' parameter to pass all known labels.\n",
      "  warnings.warn(\n",
      "100%|██████████| 10/10 [01:16<00:00,  7.65s/it]\n"
     ]
    },
    {
     "name": "stdout",
     "output_type": "stream",
     "text": [
      "\n",
      "Best epoch for efficientnet_b0:\n",
      "Epoch: 4\n",
      "Test Accuracy: 94.55%\n",
      "Test AUC: 98.38%\n",
      "Test Specificity: 94.02%\n",
      "Test F1-Score: 94.56%\n",
      "\n",
      "Summary Statistics:\n",
      "                test_acc              test_auc              test_specificity  \\\n",
      "                     max   mean   std      max   mean   std              max   \n",
      "model_name                                                                     \n",
      "efficientnet_b0    94.55  90.93  3.28    98.59  97.58  0.88            94.02   \n",
      "\n",
      "                              test_precision              test_recall         \\\n",
      "                  mean    std            max   mean   std         max   mean   \n",
      "model_name                                                                     \n",
      "efficientnet_b0  81.11  10.46           94.6  91.44  2.59       94.55  90.93   \n",
      "\n",
      "                      test_f1               \n",
      "                  std     max   mean   std  \n",
      "model_name                                  \n",
      "efficientnet_b0  3.28   94.56  90.69  3.61  \n"
     ]
    }
   ],
   "source": [
    "import os\n",
    "import torch\n",
    "import pandas as pd\n",
    "import numpy as np\n",
    "from pathlib import Path\n",
    "from tqdm import tqdm\n",
    "from sklearn.metrics import (accuracy_score, precision_score, recall_score, \n",
    "                           f1_score, roc_auc_score, confusion_matrix)\n",
    "import matplotlib.pyplot as plt\n",
    "import seaborn as sns\n",
    "from sklearn.metrics import roc_curve\n",
    "from PNModel import ChestXRayModel, create_data_loaders, get_data\n",
    "\n",
    "def calculate_specificity(y_true, y_pred):\n",
    "    \"\"\"Calculate specificity (true negative rate)\"\"\"\n",
    "    tn, fp, fn, tp = confusion_matrix(y_true, y_pred).ravel()\n",
    "    return tn / (tn + fp)\n",
    "\n",
    "def evaluate_model(model, test_loader, device):\n",
    "    \"\"\"Evaluate model performance on test dataset\"\"\"\n",
    "    model.eval()\n",
    "    all_preds = []\n",
    "    all_labels = []\n",
    "    all_probs = []  # For AUC calculation\n",
    "    \n",
    "    with torch.no_grad():\n",
    "        for inputs, labels in test_loader:\n",
    "            inputs, labels = inputs.to(device), labels.to(device)\n",
    "            outputs = model(inputs)\n",
    "            probabilities = torch.softmax(outputs, dim=1)\n",
    "            _, predicted = outputs.max(1)\n",
    "            \n",
    "            all_preds.extend(predicted.cpu().numpy())\n",
    "            all_labels.extend(labels.cpu().numpy())\n",
    "            all_probs.extend(probabilities[:, 1].cpu().numpy())  # Probability of positive class\n",
    "            cm = confusion_matrix(all_labels, all_preds)\n",
    "            \n",
    "    \n",
    "    # Calculate metrics\n",
    "    metrics = {\n",
    "        'accuracy': accuracy_score(all_labels, all_preds),\n",
    "        'precision': precision_score(all_labels, all_preds, average='weighted'),\n",
    "        'recall': recall_score(all_labels, all_preds, average='weighted'),\n",
    "        'specificity': calculate_specificity(all_labels, all_preds),\n",
    "        'f1': f1_score(all_labels, all_preds, average='weighted'),\n",
    "        'auc': roc_auc_score(all_labels, all_probs),\n",
    "        'cm': cm,\n",
    "        'all_preds': all_preds,\n",
    "        'all_labels': all_labels\n",
    "    }\n",
    "    \n",
    "    return metrics\n",
    "\n",
    "def evaluate_all_epochs(model_name, checkpoint_dir, test_loader):\n",
    "    \"\"\"Evaluate models from all epochs\"\"\"\n",
    "    device = torch.device('cuda' if torch.cuda.is_available() else 'cpu')\n",
    "    results = []\n",
    "    \n",
    "    # Initialize model\n",
    "    model = ChestXRayModel(model_name=model_name).to(device)\n",
    "    \n",
    "    # Get all checkpoint files\n",
    "    checkpoint_files = sorted(\n",
    "        [f for f in os.listdir(checkpoint_dir) if f.startswith('epoch_') and f.endswith('.pth')],\n",
    "        key=lambda x: int(x.split('_')[1].split('.')[0])\n",
    "    )\n",
    "    \n",
    "    print(f\"\\nEvaluating {model_name} checkpoints...\")\n",
    "    for checkpoint_file in tqdm(checkpoint_files):\n",
    "        epoch_num = int(checkpoint_file.split('_')[1].split('.')[0])\n",
    "        \n",
    "        # Load checkpoint\n",
    "        checkpoint_path = os.path.join(checkpoint_dir, checkpoint_file)\n",
    "        checkpoint = torch.load(checkpoint_path)\n",
    "        model.load_state_dict(checkpoint['model_state_dict'])\n",
    "        \n",
    "        # Evaluate model\n",
    "        metrics = evaluate_model(model, test_loader, device)\n",
    "\n",
    "        # plot confusion matrix\n",
    "        cm = metrics['cm']\n",
    "        plt.figure(figsize=(5, 5))\n",
    "        \n",
    "        plt.rcParams.update({'font.size': 18})  # Set base font size\n",
    "        sns.heatmap(cm, annot=True, fmt='g', cmap='Blues', cbar=False,\n",
    "                    xticklabels=['Normal', 'Pneumonia'],\n",
    "                    yticklabels=['Normal', 'Pneumonia'],\n",
    "                    annot_kws={'size': 18})\n",
    "        plt.xlabel('Prediction', fontsize=18)\n",
    "        plt.ylabel('Truth', fontsize=18)\n",
    "        # plt.title(f'{'Confusion Matrix'\n",
    "        plt.tight_layout()\n",
    "        plt.savefig(f'../checkpoints/{model_name}/epoch_{epoch_num}_confusion_matrix.png')\n",
    "        plt.close()\n",
    "        \n",
    "        # plot ROC curve\n",
    "        fpr, tpr, _ = roc_curve(metrics['all_labels'], metrics['all_preds'])\n",
    "        plt.figure(figsize=(4, 4))\n",
    "        plt.plot(fpr, tpr, color='darkorange', lw=2, label='ROC curve')\n",
    "        plt.plot([0, 1], [0, 1], color='navy', lw=2, linestyle='--')\n",
    "        plt.xlabel('False Positive Rate')\n",
    "        plt.ylabel('True Positive Rate')\n",
    "        plt.title(f'{model_name} - Epoch {epoch_num} ROC Curve')\n",
    "        plt.legend(loc='lower right')\n",
    "        plt.tight_layout()\n",
    "        plt.savefig(f'../checkpoints/{model_name}/epoch_{epoch_num}_roc_curve.png')\n",
    "        plt.close()\n",
    "\n",
    "        # Store results\n",
    "        results.append({\n",
    "            'model_name': model_name,\n",
    "            'epoch': epoch_num,\n",
    "            'train_loss': checkpoint['train_loss'],\n",
    "            'train_acc': checkpoint['train_acc'],\n",
    "            'val_loss': checkpoint['val_loss'],\n",
    "            'val_acc': checkpoint['val_acc'],\n",
    "            'test_acc': metrics['accuracy'] * 100,\n",
    "            'test_precision': metrics['precision'] * 100,\n",
    "            'test_recall': metrics['recall'] * 100,\n",
    "            'test_specificity': metrics['specificity'] * 100,\n",
    "            'test_f1': metrics['f1'] * 100,\n",
    "            'test_auc': metrics['auc'] * 100\n",
    "        })\n",
    "    \n",
    "    return pd.DataFrame(results)\n",
    "\n",
    "def plot_epoch_metrics(df, model_name):\n",
    "    \"\"\"Plot metrics across epochs\"\"\"\n",
    "    plt.figure(figsize=(15, 10))\n",
    "    \n",
    "    # Plot accuracies\n",
    "    plt.subplot(2, 2, 1)\n",
    "    plt.plot(df['epoch'], df['train_acc'], label='Train')\n",
    "    plt.plot(df['epoch'], df['val_acc'], label='Validation')\n",
    "    plt.plot(df['epoch'], df['test_acc'], label='Test')\n",
    "    plt.title(f'{model_name} - Accuracy Across Epochs')\n",
    "    plt.xlabel('Epoch')\n",
    "    plt.ylabel('Accuracy (%)')\n",
    "    plt.legend()\n",
    "    \n",
    "    # Plot test classification metrics\n",
    "    plt.subplot(2, 2, 2)\n",
    "    plt.plot(df['epoch'], df['test_precision'], label='Precision')\n",
    "    plt.plot(df['epoch'], df['test_recall'], label='Recall')\n",
    "    plt.plot(df['epoch'], df['test_specificity'], label='Specificity')\n",
    "    plt.plot(df['epoch'], df['test_f1'], label='F1')\n",
    "    plt.title(f'{model_name} - Test Classification Metrics')\n",
    "    plt.xlabel('Epoch')\n",
    "    plt.ylabel('Score (%)')\n",
    "    plt.legend()\n",
    "    \n",
    "    # Plot losses\n",
    "    plt.subplot(2, 2, 3)\n",
    "    plt.plot(df['epoch'], df['train_loss'], label='Train')\n",
    "    plt.plot(df['epoch'], df['val_loss'], label='Validation')\n",
    "    plt.title(f'{model_name} - Loss Across Epochs')\n",
    "    plt.xlabel('Epoch')\n",
    "    plt.ylabel('Loss')\n",
    "    plt.legend()\n",
    "    \n",
    "    # Plot AUC\n",
    "    plt.subplot(2, 2, 4)\n",
    "    plt.plot(df['epoch'], df['test_auc'], label='AUC')\n",
    "    plt.title(f'{model_name} - AUC Score')\n",
    "    plt.xlabel('Epoch')\n",
    "    plt.ylabel('AUC (%)')\n",
    "    plt.legend()\n",
    "    \n",
    "    plt.tight_layout()\n",
    "    return plt\n",
    "\n",
    "def create_metrics_heatmap(df, model_name):\n",
    "    \"\"\"Create heatmap of metrics evolution\"\"\"\n",
    "    metrics = ['test_acc', 'test_precision', 'test_recall', \n",
    "              'test_specificity', 'test_f1', 'test_auc']\n",
    "    \n",
    "    # Create matrix for heatmap\n",
    "    metrics_data = df[metrics].values.T\n",
    "    \n",
    "    plt.figure(figsize=(12, 6))\n",
    "    sns.heatmap(metrics_data, \n",
    "                xticklabels=df['epoch'],\n",
    "                yticklabels=[m.replace('test_', '').upper() for m in metrics],\n",
    "                cmap='YlOrRd',\n",
    "                annot=True,\n",
    "                fmt='.1f',\n",
    "                cbar_kws={'label': 'Score (%)'})\n",
    "    \n",
    "    plt.title(f'{model_name} - Metrics Evolution Across Epochs')\n",
    "    plt.xlabel('Epoch')\n",
    "    plt.tight_layout()\n",
    "    return plt\n",
    "\n",
    "def main():\n",
    "    # Load test dataset (same as before)\n",
    "    data_dir = '../chest_xray/train'\n",
    "    valid_dir = '../chest_xray/val'\n",
    "    test_dir = '../chest_xray/test'\n",
    "\n",
    "    filepaths, labels = get_data(data_dir)\n",
    "    valid_filepaths, valid_labels = get_data(valid_dir)\n",
    "    test_filepaths, test_labels = get_data(test_dir)\n",
    "\n",
    "    train_df = pd.DataFrame({'filepaths': filepaths, 'labels': labels})\n",
    "    valid_df = pd.DataFrame({'filepaths': valid_filepaths, 'labels': valid_labels})\n",
    "    test_df = pd.DataFrame({'filepaths': test_filepaths, 'labels': test_labels})\n",
    "\n",
    "    models_to_evaluate = [\n",
    "        'efficientnet_b0',\n",
    "        # 'efficientnet_b4'\n",
    "    ]\n",
    "\n",
    "    all_results = []\n",
    "    \n",
    "    for model_name in models_to_evaluate:\n",
    "        # Initialize model to get input size\n",
    "        temp_model = ChestXRayModel(model_name=model_name)\n",
    "        input_size = temp_model.get_input_size()\n",
    "        \n",
    "        # Create test loader\n",
    "        _, _, test_loader, _ = create_data_loaders(\n",
    "            train_df, valid_df, test_df, \n",
    "            input_size=input_size,\n",
    "            batch_size=16\n",
    "        )\n",
    "        \n",
    "        # Evaluate all epochs\n",
    "        checkpoint_dir = f'../checkpoints/{model_name}'\n",
    "        results_df = evaluate_all_epochs(model_name, checkpoint_dir, test_loader)\n",
    "        \n",
    "        # Generate and save plots\n",
    "        plt = plot_epoch_metrics(results_df, model_name)\n",
    "        plt.savefig(f'../checkpoints/{model_name}/epoch_evaluation.png')\n",
    "        plt.close()\n",
    "        \n",
    "        # Generate and save heatmap\n",
    "        plt = create_metrics_heatmap(results_df, model_name)\n",
    "        plt.savefig(f'../checkpoints/{model_name}/metrics_heatmap.png')\n",
    "        plt.close()\n",
    "        \n",
    "        # Save results to CSV\n",
    "        results_df.to_csv(f'../checkpoints/{model_name}/epoch_evaluation.csv', index=False)\n",
    "        \n",
    "        all_results.append(results_df)\n",
    "        \n",
    "        # Print best epoch\n",
    "        best_epoch = results_df.loc[results_df['test_acc'].idxmax()]\n",
    "        print(f\"\\nBest epoch for {model_name}:\")\n",
    "        print(f\"Epoch: {best_epoch['epoch']}\")\n",
    "        print(f\"Test Accuracy: {best_epoch['test_acc']:.2f}%\")\n",
    "        print(f\"Test AUC: {best_epoch['test_auc']:.2f}%\")\n",
    "        print(f\"Test Specificity: {best_epoch['test_specificity']:.2f}%\")\n",
    "        print(f\"Test F1-Score: {best_epoch['test_f1']:.2f}%\")\n",
    "    \n",
    "    # Combine all results\n",
    "    final_results = pd.concat(all_results, ignore_index=True)\n",
    "    \n",
    "    # Save combined results\n",
    "    final_results.to_csv('../checkpoints/all_models_evaluation.csv', index=False)\n",
    "    \n",
    "    return final_results\n",
    "\n",
    "if __name__ == \"__main__\":\n",
    "    results = main()\n",
    "    \n",
    "    # Display summary statistics\n",
    "    print(\"\\nSummary Statistics:\")\n",
    "    metrics = ['test_acc', 'test_auc', 'test_specificity', \n",
    "              'test_precision', 'test_recall', 'test_f1']\n",
    "    \n",
    "    summary = results.groupby('model_name')[metrics].agg(['max', 'mean', 'std']).round(2)\n",
    "    print(summary)\n",
    "    \n",
    "    # Save detailed summary\n",
    "    summary.to_csv('model_summary_statistics.csv')"
   ]
  },
  {
   "cell_type": "markdown",
   "metadata": {},
   "source": [
    "## ROC curve for efficientnet model on chest x-ray images"
   ]
  },
  {
   "cell_type": "code",
   "execution_count": 2,
   "metadata": {},
   "outputs": [
    {
     "name": "stderr",
     "output_type": "stream",
     "text": [
      "c:\\ProgramData\\mne-python\\1.5.1_0\\envs\\CU121\\lib\\site-packages\\torchvision\\models\\_utils.py:208: UserWarning: The parameter 'pretrained' is deprecated since 0.13 and may be removed in the future, please use 'weights' instead.\n",
      "  warnings.warn(\n",
      "c:\\ProgramData\\mne-python\\1.5.1_0\\envs\\CU121\\lib\\site-packages\\torchvision\\models\\_utils.py:223: UserWarning: Arguments other than a weight enum or `None` for 'weights' are deprecated since 0.13 and may be removed in the future. The current behavior is equivalent to passing `weights=EfficientNet_B0_Weights.IMAGENET1K_V1`. You can also use `weights=EfficientNet_B0_Weights.DEFAULT` to get the most up-to-date weights.\n",
      "  warnings.warn(msg)\n",
      "C:\\Users\\tcs\\AppData\\Local\\Temp\\ipykernel_24636\\498753278.py:19: FutureWarning: You are using `torch.load` with `weights_only=False` (the current default value), which uses the default pickle module implicitly. It is possible to construct malicious pickle data which will execute arbitrary code during unpickling (See https://github.com/pytorch/pytorch/blob/main/SECURITY.md#untrusted-models for more details). In a future release, the default value for `weights_only` will be flipped to `True`. This limits the functions that could be executed during unpickling. Arbitrary objects will no longer be allowed to be loaded via this mode unless they are explicitly allowlisted by the user via `torch.serialization.add_safe_globals`. We recommend you start setting `weights_only=True` for any use case where you don't have full control of the loaded file. Please open an issue on GitHub for any issues related to this experimental feature.\n",
      "  checkpoint = torch.load(checkpoint_path, map_location=device)\n"
     ]
    },
    {
     "name": "stdout",
     "output_type": "stream",
     "text": [
      "ROC AUC Score: 0.9838\n"
     ]
    },
    {
     "data": {
      "image/png": "[encoded data removed]",
      "text/plain": [
       "<Figure size 600x600 with 1 Axes>"
      ]
     },
     "metadata": {},
     "output_type": "display_data"
    }
   ],
   "source": [
    "import torch\n",
    "import numpy as np\n",
    "import matplotlib.pyplot as plt\n",
    "from sklearn.metrics import roc_curve, auc\n",
    "import seaborn as sns\n",
    "from PNModel import ChestXRayModel, create_data_loaders\n",
    "\n",
    "def plot_roc_curve_epoch4(model_name, checkpoint_path, test_loader, save_path):\n",
    "    \"\"\"\n",
    "    Plot detailed ROC curve for epoch  model\n",
    "    \"\"\"\n",
    "    # Set up device\n",
    "    device = torch.device('cuda' if torch.cuda.is_available() else 'cpu')\n",
    "    \n",
    "    # Initialize model\n",
    "    model = ChestXRayModel(model_name=model_name).to(device)\n",
    "    \n",
    "    # Load epoch 4 checkpoint\n",
    "    checkpoint = torch.load(checkpoint_path, map_location=device)\n",
    "    model.load_state_dict(checkpoint['model_state_dict'])\n",
    "    model.eval()\n",
    "    \n",
    "    # Collect predictions\n",
    "    all_probs = []\n",
    "    all_labels = []\n",
    "    \n",
    "    with torch.no_grad():\n",
    "        for inputs, labels in test_loader:\n",
    "            inputs, labels = inputs.to(device), labels.to(device)\n",
    "            outputs = model(inputs)\n",
    "            probabilities = torch.softmax(outputs, dim=1)\n",
    "            \n",
    "            all_probs.extend(probabilities[:, 1].cpu().numpy())  # Probability of positive class\n",
    "            all_labels.extend(labels.cpu().numpy())\n",
    "    \n",
    "    # Calculate ROC curve\n",
    "    fpr, tpr, thresholds = roc_curve(all_labels, all_probs)\n",
    "    roc_auc = auc(fpr, tpr)\n",
    "    \n",
    "    # Create detailed plot\n",
    "    plt.figure(figsize=(6, 6))\n",
    "    \n",
    "    # Style setup\n",
    "    sns.set_style('whitegrid')\n",
    "    plt.plot(fpr, tpr, color='darkorange', lw=2.5, \n",
    "            label=f'ROC curve (AUC = {roc_auc:.3f})')\n",
    "    plt.plot([0, 1], [0, 1], color='navy', lw=2, linestyle='--',\n",
    "            label='Random classifier')\n",
    "    \n",
    "    # Add details\n",
    "    plt.xlim([-0.02, 1.02])\n",
    "    plt.ylim([-0.02, 1.02])\n",
    "    plt.xlabel('False Positive Rate (1 - Specificity)', fontsize=12)\n",
    "    plt.ylabel('True Positive Rate (Sensitivity)', fontsize=12)\n",
    "    plt.title(f'{model_name} - ROC Curve\\nPneumonia Detection Performance', \n",
    "              fontsize=14, pad=20)\n",
    "    \n",
    "    # Add grid and legend\n",
    "    plt.grid(True, alpha=0.3)\n",
    "    plt.legend(loc='lower right', fontsize=16)\n",
    "    \n",
    "    # Add operating points annotations\n",
    "    # Find some interesting threshold points\n",
    "    thresholds_of_interest = [0.3, 0.5, 0.7]\n",
    "    for threshold in thresholds_of_interest:\n",
    "        idx = (np.abs(thresholds - threshold)).argmin()\n",
    "        # plt.plot(fpr[idx], tpr[idx], 'o', markersize=8)\n",
    "        # plt.annotate(f'threshold={threshold:.1f}\\nFPR={fpr[idx]:.2f}, TPR={tpr[idx]:.2f}',\n",
    "        #             (fpr[idx], tpr[idx]), \n",
    "        #             xytext=(10, 10), textcoords='offset points',\n",
    "        #             bbox=dict(boxstyle='round,pad=0.5', fc='yellow', alpha=0.5),\n",
    "        #             arrowprops=dict(arrowstyle='->', connectionstyle='arc3,rad=.2'))\n",
    "    \n",
    "    # Add performance metrics text box\n",
    "    textstr = f'Model Performance:\\n' \\\n",
    "             f'AUC: {roc_auc:.3f}\\n' \\\n",
    "            #  f'Accuracy: {checkpoint[\"val_acc\"]:.1f}%\\n' \\\n",
    "            #  f'Training Loss: {checkpoint[\"train_loss\"]:.3f}'\n",
    "    \n",
    "    # plt.text(0.05, 0.95, textstr, transform=plt.gca().transAxes,\n",
    "    #         fontsize=10, verticalalignment='top',\n",
    "    #         bbox=dict(boxstyle='round', facecolor='white', alpha=0.8))\n",
    "    \n",
    "    # Save the plot\n",
    "    plt.tight_layout()\n",
    "    plt.savefig(save_path)\n",
    "    \n",
    "    return roc_auc\n",
    "\n",
    "# Example usage:\n",
    "if __name__ == \"__main__\":\n",
    "    # Load your test dataset and create test_loader\n",
    "    data_dir = '../chest_xray/train'\n",
    "    valid_dir = '../chest_xray/val'\n",
    "    test_dir = '../chest_xray/test'\n",
    "\n",
    "    filepaths, labels = get_data(data_dir)\n",
    "    valid_filepaths, valid_labels = get_data(valid_dir)\n",
    "    test_filepaths, test_labels = get_data(test_dir)\n",
    "\n",
    "    train_df = pd.DataFrame({'filepaths': filepaths, 'labels': labels})\n",
    "    valid_df = pd.DataFrame({'filepaths': valid_filepaths, 'labels': valid_labels})\n",
    "    test_df = pd.DataFrame({'filepaths': test_filepaths, 'labels': test_labels})\n",
    "\n",
    "    # Initialize model and create test loader\n",
    "    model_name = 'efficientnet_b0'\n",
    "    temp_model = ChestXRayModel(model_name=model_name)\n",
    "    input_size = temp_model.get_input_size()\n",
    "    \n",
    "    _, _, test_loader, _ = create_data_loaders(\n",
    "        train_df, valid_df, test_df, \n",
    "        input_size=input_size,\n",
    "        batch_size=16\n",
    "    )\n",
    "    \n",
    "    # Plot ROC curve\n",
    "    checkpoint_path = f'../checkpoints/{model_name}/epoch_4.pth'\n",
    "    save_path = f'../roc_curve_epoch4_{model_name}.png'\n",
    "    \n",
    "    roc_auc = plot_roc_curve_epoch4(model_name, checkpoint_path, test_loader, save_path)\n",
    "    print(f\"ROC AUC Score: {roc_auc:.4f}\")"
   ]
  },
  {
   "cell_type": "markdown",
   "metadata": {},
   "source": [
    "## Train Autoencoder for chest x-ray images"
   ]
  },
  {
   "cell_type": "code",
   "execution_count": 1,
   "metadata": {},
   "outputs": [
    {
     "name": "stdout",
     "output_type": "stream",
     "text": [
      "10215\n"
     ]
    },
    {
     "name": "stderr",
     "output_type": "stream",
     "text": [
      "Epoch 1/15 - Training: 100%|██████████| 320/320 [05:41<00:00,  1.07s/it]\n",
      "Validating: 100%|██████████| 1/1 [00:00<00:00,  3.11it/s]\n"
     ]
    },
    {
     "name": "stdout",
     "output_type": "stream",
     "text": [
      "Epoch 1: Train Loss = 0.0235, Valid Loss = 0.0086\n"
     ]
    },
    {
     "name": "stderr",
     "output_type": "stream",
     "text": [
      "Epoch 2/15 - Training: 100%|██████████| 320/320 [02:04<00:00,  2.56it/s]\n",
      "Validating: 100%|██████████| 1/1 [00:00<00:00,  6.90it/s]\n"
     ]
    },
    {
     "name": "stdout",
     "output_type": "stream",
     "text": [
      "Epoch 2: Train Loss = 0.0096, Valid Loss = 0.0061\n"
     ]
    },
    {
     "name": "stderr",
     "output_type": "stream",
     "text": [
      "Epoch 3/15 - Training: 100%|██████████| 320/320 [02:05<00:00,  2.55it/s]\n",
      "Validating: 100%|██████████| 1/1 [00:00<00:00,  7.05it/s]\n"
     ]
    },
    {
     "name": "stdout",
     "output_type": "stream",
     "text": [
      "Epoch 3: Train Loss = 0.0075, Valid Loss = 0.0069\n"
     ]
    },
    {
     "name": "stderr",
     "output_type": "stream",
     "text": [
      "Epoch 4/15 - Training: 100%|██████████| 320/320 [02:04<00:00,  2.56it/s]\n",
      "Validating: 100%|██████████| 1/1 [00:00<00:00,  7.07it/s]\n"
     ]
    },
    {
     "name": "stdout",
     "output_type": "stream",
     "text": [
      "Epoch 4: Train Loss = 0.0065, Valid Loss = 0.0065\n"
     ]
    },
    {
     "name": "stderr",
     "output_type": "stream",
     "text": [
      "Epoch 5/15 - Training: 100%|██████████| 320/320 [02:05<00:00,  2.55it/s]\n",
      "Validating: 100%|██████████| 1/1 [00:00<00:00,  7.23it/s]\n"
     ]
    },
    {
     "name": "stdout",
     "output_type": "stream",
     "text": [
      "Epoch 5: Train Loss = 0.0058, Valid Loss = 0.0042\n"
     ]
    },
    {
     "name": "stderr",
     "output_type": "stream",
     "text": [
      "Epoch 6/15 - Training: 100%|██████████| 320/320 [02:05<00:00,  2.55it/s]\n",
      "Validating: 100%|██████████| 1/1 [00:00<00:00,  6.95it/s]\n"
     ]
    },
    {
     "name": "stdout",
     "output_type": "stream",
     "text": [
      "Epoch 6: Train Loss = 0.0054, Valid Loss = 0.0055\n"
     ]
    },
    {
     "name": "stderr",
     "output_type": "stream",
     "text": [
      "Epoch 7/15 - Training: 100%|██████████| 320/320 [02:05<00:00,  2.54it/s]\n",
      "Validating: 100%|██████████| 1/1 [00:00<00:00,  6.19it/s]\n"
     ]
    },
    {
     "name": "stdout",
     "output_type": "stream",
     "text": [
      "Epoch 7: Train Loss = 0.0051, Valid Loss = 0.0037\n"
     ]
    },
    {
     "name": "stderr",
     "output_type": "stream",
     "text": [
      "Epoch 8/15 - Training: 100%|██████████| 320/320 [02:06<00:00,  2.54it/s]\n",
      "Validating: 100%|██████████| 1/1 [00:00<00:00,  6.74it/s]\n"
     ]
    },
    {
     "name": "stdout",
     "output_type": "stream",
     "text": [
      "Epoch 8: Train Loss = 0.0049, Valid Loss = 0.0043\n"
     ]
    },
    {
     "name": "stderr",
     "output_type": "stream",
     "text": [
      "Epoch 9/15 - Training: 100%|██████████| 320/320 [02:06<00:00,  2.52it/s]\n",
      "Validating: 100%|██████████| 1/1 [00:00<00:00,  6.97it/s]\n"
     ]
    },
    {
     "name": "stdout",
     "output_type": "stream",
     "text": [
      "Epoch 9: Train Loss = 0.0047, Valid Loss = 0.0041\n"
     ]
    },
    {
     "name": "stderr",
     "output_type": "stream",
     "text": [
      "Epoch 10/15 - Training: 100%|██████████| 320/320 [02:05<00:00,  2.55it/s]\n",
      "Validating: 100%|██████████| 1/1 [00:00<00:00,  7.06it/s]\n"
     ]
    },
    {
     "name": "stdout",
     "output_type": "stream",
     "text": [
      "Epoch 10: Train Loss = 0.0045, Valid Loss = 0.0040\n"
     ]
    },
    {
     "name": "stderr",
     "output_type": "stream",
     "text": [
      "Epoch 11/15 - Training: 100%|██████████| 320/320 [02:06<00:00,  2.52it/s]\n",
      "Validating: 100%|██████████| 1/1 [00:00<00:00,  6.45it/s]\n"
     ]
    },
    {
     "name": "stdout",
     "output_type": "stream",
     "text": [
      "Epoch 11: Train Loss = 0.0044, Valid Loss = 0.0039\n"
     ]
    },
    {
     "name": "stderr",
     "output_type": "stream",
     "text": [
      "Epoch 12/15 - Training: 100%|██████████| 320/320 [02:07<00:00,  2.51it/s]\n",
      "Validating: 100%|██████████| 1/1 [00:00<00:00,  6.67it/s]\n"
     ]
    },
    {
     "name": "stdout",
     "output_type": "stream",
     "text": [
      "Epoch 12: Train Loss = 0.0041, Valid Loss = 0.0039\n"
     ]
    },
    {
     "name": "stderr",
     "output_type": "stream",
     "text": [
      "Epoch 13/15 - Training: 100%|██████████| 320/320 [02:07<00:00,  2.52it/s]\n",
      "Validating: 100%|██████████| 1/1 [00:00<00:00,  7.04it/s]\n"
     ]
    },
    {
     "name": "stdout",
     "output_type": "stream",
     "text": [
      "Epoch 13: Train Loss = 0.0042, Valid Loss = 0.0032\n"
     ]
    },
    {
     "name": "stderr",
     "output_type": "stream",
     "text": [
      "Epoch 14/15 - Training: 100%|██████████| 320/320 [02:06<00:00,  2.52it/s]\n",
      "Validating: 100%|██████████| 1/1 [00:00<00:00,  6.92it/s]\n"
     ]
    },
    {
     "name": "stdout",
     "output_type": "stream",
     "text": [
      "Epoch 14: Train Loss = 0.0041, Valid Loss = 0.0036\n"
     ]
    },
    {
     "name": "stderr",
     "output_type": "stream",
     "text": [
      "Epoch 15/15 - Training: 100%|██████████| 320/320 [02:07<00:00,  2.52it/s]\n",
      "Validating: 100%|██████████| 1/1 [00:00<00:00,  6.67it/s]\n"
     ]
    },
    {
     "name": "stdout",
     "output_type": "stream",
     "text": [
      "Epoch 15: Train Loss = 0.0039, Valid Loss = 0.0029\n"
     ]
    },
    {
     "data": {
      "image/png": "[encoded data removed]",
      "text/plain": [
       "<Figure size 1000x500 with 1 Axes>"
      ]
     },
     "metadata": {},
     "output_type": "display_data"
    },
    {
     "name": "stderr",
     "output_type": "stream",
     "text": [
      "Processing X-ray images: 624it [00:11, 53.15it/s]\n",
      "Processing non-X-ray images: 100%|██████████| 12/12 [00:00<00:00, 79.47it/s]\n"
     ]
    },
    {
     "name": "stdout",
     "output_type": "stream",
     "text": [
      "ROC AUC Score: 0.981\n",
      "Average X-ray reconstruction error: 0.0031\n",
      "Average non-X-ray reconstruction error: 0.0190\n"
     ]
    }
   ],
   "source": [
    "import os\n",
    "import torch\n",
    "import pandas as pd\n",
    "import torch.nn as nn\n",
    "import torch.optim as optim\n",
    "from torch.utils.data import Dataset, DataLoader\n",
    "from torchvision import transforms\n",
    "from PIL import Image\n",
    "import numpy as np\n",
    "from pathlib import Path\n",
    "from tqdm import tqdm\n",
    "from sklearn.metrics import roc_curve, auc\n",
    "import matplotlib.pyplot as plt\n",
    "from CXRAutoencoder import  train_autoencoder, evaluate_image, test_on_external_dataset\n",
    "\n",
    "# Generate data paths with labels\n",
    "data_dir = '../chest_xray/train'\n",
    "\n",
    "filepaths = []\n",
    "labels = []\n",
    "\n",
    "valid_dir = '../chest_xray/val'\n",
    "test_dir = '../chest_xray/test'\n",
    "\n",
    "valid_filepaths = []\n",
    "valid_labels = []\n",
    "\n",
    "test_filepaths = []\n",
    "test_labels = []\n",
    "\n",
    "\n",
    "# Data loading functions\n",
    "def get_data(data_dir):\n",
    "    filepaths = []\n",
    "    labels = []\n",
    "    folds = os.listdir(data_dir)\n",
    "    for fold in folds:\n",
    "        foldpath = os.path.join(data_dir, fold)\n",
    "        filelist = os.listdir(foldpath)\n",
    "        for file in filelist:\n",
    "            fpath = os.path.join(foldpath, file)\n",
    "            filepaths.append(fpath)\n",
    "            labels.append(fold)\n",
    "    return filepaths, labels\n",
    "\n",
    "filepaths, labels = get_data(data_dir)\n",
    "valid_filepaths, valid_labels = get_data(valid_dir)\n",
    "test_filepaths, test_labels = get_data(test_dir)\n",
    "\n",
    "# Create dataframe\n",
    "df = pd.DataFrame({\n",
    "    'filepaths': filepaths,\n",
    "    'labels': labels\n",
    "})\n",
    "\n",
    "\n",
    "test_folder = 'D:\\\\nih_chestxray\\\\images_001\\\\images'\n",
    "for file in os.listdir(test_folder):\n",
    "    # print(file)\n",
    "    if file.endswith('.png'):\n",
    "        filepaths.append(os.path.join(test_folder, file))\n",
    "        labels.append('test')\n",
    "\n",
    "print (len(filepaths))\n",
    "\n",
    "# load train data\n",
    "train_df = pd.DataFrame({ 'filepaths': filepaths, 'labels': labels })\n",
    "valid_df = pd.DataFrame({ 'filepaths': valid_filepaths, 'labels': valid_labels })\n",
    "test_df = pd.DataFrame({ 'filepaths': test_filepaths, 'labels': test_labels })\n",
    "\n",
    "# Example usage\n",
    "if __name__ == \"__main__\":\n",
    "    \n",
    "\n",
    "    # Main execution\n",
    "    # Train the autoencoder\n",
    "\n",
    "    model, train_losses, valid_losses = train_autoencoder(train_df, valid_df, num_epochs=15)\n",
    "    \n",
    "    # Plot training curves\n",
    "    plt.figure(figsize=(10, 5))\n",
    "    plt.plot(train_losses, label='Train Loss')\n",
    "    plt.plot(valid_losses, label='Validation Loss')\n",
    "    plt.xlabel('Epoch')\n",
    "    plt.ylabel('Loss')\n",
    "    plt.title('Autoencoder Training Progress')\n",
    "    plt.legend()\n",
    "    plt.show()\n",
    "    \n",
    "    # Test on external dataset\n",
    "    non_xray_dir = \"C:\\\\Users\\\\tcs\\\\Pictures\\\\Screenshots\"  # Directory containing non-X-ray images\n",
    "    roc_auc, xray_errors, non_xray_errors = test_on_external_dataset(model, test_df, non_xray_dir)\n",
    "    \n",
    "    print(f\"ROC AUC Score: {roc_auc:.3f}\")\n",
    "    print(f\"Average X-ray reconstruction error: {np.mean(xray_errors):.4f}\")\n",
    "    print(f\"Average non-X-ray reconstruction error: {np.mean(non_xray_errors):.4f}\")"
   ]
  },
  {
   "cell_type": "code",
   "execution_count": 3,
   "metadata": {},
   "outputs": [
    {
     "name": "stderr",
     "output_type": "stream",
     "text": [
      "C:\\Users\\tcs\\AppData\\Local\\Temp\\ipykernel_20992\\3730321079.py:13: FutureWarning: You are using `torch.load` with `weights_only=False` (the current default value), which uses the default pickle module implicitly. It is possible to construct malicious pickle data which will execute arbitrary code during unpickling (See https://github.com/pytorch/pytorch/blob/main/SECURITY.md#untrusted-models for more details). In a future release, the default value for `weights_only` will be flipped to `True`. This limits the functions that could be executed during unpickling. Arbitrary objects will no longer be allowed to be loaded via this mode unless they are explicitly allowlisted by the user via `torch.serialization.add_safe_globals`. We recommend you start setting `weights_only=True` for any use case where you don't have full control of the loaded file. Please open an issue on GitHub for any issues related to this experimental feature.\n",
      "  model.load_state_dict(torch.load('./best_autoencoder.pth'))\n",
      "2it [00:03,  1.85s/it]\n",
      "Processing X-ray images: 10000it [03:58, 41.99it/s]\n",
      "Processing non-X-ray images: 100%|██████████| 1/1 [00:00<?, ?it/s]\n",
      "c:\\ProgramData\\mne-python\\1.5.1_0\\envs\\CU121\\lib\\site-packages\\sklearn\\metrics\\_ranking.py:1137: UndefinedMetricWarning: No negative samples in y_true, false positive value should be meaningless\n",
      "  warnings.warn(\n"
     ]
    },
    {
     "data": {
      "image/png": "[encoded data removed]",
      "text/plain": [
       "<Figure size 1000x500 with 1 Axes>"
      ]
     },
     "metadata": {},
     "output_type": "display_data"
    },
    {
     "name": "stderr",
     "output_type": "stream",
     "text": [
      "c:\\ProgramData\\mne-python\\1.5.1_0\\envs\\CU121\\lib\\site-packages\\numpy\\core\\fromnumeric.py:3432: RuntimeWarning: Mean of empty slice.\n",
      "  return _methods._mean(a, axis=axis, dtype=dtype,\n",
      "c:\\ProgramData\\mne-python\\1.5.1_0\\envs\\CU121\\lib\\site-packages\\numpy\\core\\_methods.py:190: RuntimeWarning: invalid value encountered in double_scalars\n",
      "  ret = ret.dtype.type(ret / rcount)\n"
     ]
    },
    {
     "data": {
      "image/png": "[encoded data removed]",
      "text/plain": [
       "<Figure size 1000x500 with 1 Axes>"
      ]
     },
     "metadata": {},
     "output_type": "display_data"
    }
   ],
   "source": [
    "import os\n",
    "import numpy as np\n",
    "import pandas as pd\n",
    "from tqdm import tqdm\n",
    "import torch\n",
    "from PIL import Image\n",
    "from torchvision import transforms\n",
    "import matplotlib.pyplot as plt\n",
    "import seaborn as sns\n",
    "from CXRAutoencoder import train_autoencoder, test_on_external_dataset, ChestXRayAutoencoder\n",
    "device = torch.device('cuda' if torch.cuda.is_available() else 'cpu')\n",
    "model  = ChestXRayAutoencoder().to(device)\n",
    "model.load_state_dict(torch.load('./best_autoencoder.pth'))\n",
    "# Load the trained autoencoder model\n",
    "test_folder = 'D:\\\\nih_chestxray\\\\images_002'\n",
    "# scan subfolders for png files\n",
    "df = pd.DataFrame(columns=['filepaths', 'labels'])\n",
    "for root, dirs, files in tqdm( os.walk(test_folder)):\n",
    "    for file in files:\n",
    "        if file.endswith('.png'):\n",
    "            fpath = os.path.join(root, file)\n",
    "            label= \"Normal\"\n",
    "            df.loc[len(df)] = [fpath, label]\n",
    "            \n",
    "\n",
    "# Evaluate the autoencoder on the external dataset\n",
    "roc_auc, xray_errors, non_xray_errors = test_on_external_dataset(model, df, 'D:\\\\nih_chestxray\\\\images_003')\n",
    "# distribution of reconstruction errors\n",
    "plt.figure(figsize=(10, 5))\n",
    "sns.histplot(xray_errors, bins=50, color='blue', kde=True, label='X-ray Images')\n",
    "plt.axvline(np.mean(xray_errors), color='blue', linestyle='--', label='Mean X-ray Error')\n",
    "plt.show()\n",
    "\n",
    "plt.figure(figsize=(10, 5))\n",
    "sns.histplot(non_xray_errors, bins=50, color='red', kde=True, label='Non-X-ray Images')\n",
    "plt.axvline(np.mean(non_xray_errors), color='red', linestyle='--', label='Mean Non-X-ray Error')\n",
    "plt.show()"
   ]
  },
  {
   "cell_type": "markdown",
   "metadata": {},
   "source": [
    "## Tran ViT model for chest x-ray images"
   ]
  },
  {
   "cell_type": "code",
   "execution_count": 2,
   "metadata": {},
   "outputs": [
    {
     "name": "stderr",
     "output_type": "stream",
     "text": [
      "Some weights of ViTForImageClassification were not initialized from the model checkpoint at google/vit-base-patch16-224 and are newly initialized because the shapes did not match:\n",
      "- classifier.bias: found shape torch.Size([1000]) in the checkpoint and torch.Size([2]) in the model instantiated\n",
      "- classifier.weight: found shape torch.Size([1000, 768]) in the checkpoint and torch.Size([2, 768]) in the model instantiated\n",
      "You should probably TRAIN this model on a down-stream task to be able to use it for predictions and inference.\n"
     ]
    },
    {
     "name": "stdout",
     "output_type": "stream",
     "text": [
      "Training ViT for 20 epochs...\n",
      "\n",
      "Epoch 1/20\n"
     ]
    },
    {
     "name": "stderr",
     "output_type": "stream",
     "text": [
      "                                                                                    \r"
     ]
    },
    {
     "name": "stdout",
     "output_type": "stream",
     "text": [
      "Train Loss: 0.3176, Train Acc: 87.29%\n",
      "Val Loss: 0.4848, Val Acc: 75.00%\n",
      "New best model saved! Validation Accuracy: 75.00%\n",
      "\n",
      "Epoch 2/20\n"
     ]
    },
    {
     "name": "stderr",
     "output_type": "stream",
     "text": [
      "                                                                                     \r"
     ]
    },
    {
     "name": "stdout",
     "output_type": "stream",
     "text": [
      "Train Loss: 0.1659, Train Acc: 93.81%\n",
      "Val Loss: 0.7145, Val Acc: 62.50%\n",
      "\n",
      "Epoch 3/20\n"
     ]
    },
    {
     "name": "stderr",
     "output_type": "stream",
     "text": [
      "                                                                                    \r"
     ]
    },
    {
     "name": "stdout",
     "output_type": "stream",
     "text": [
      "Train Loss: 0.1489, Train Acc: 94.82%\n",
      "Val Loss: 0.4358, Val Acc: 81.25%\n",
      "New best model saved! Validation Accuracy: 81.25%\n",
      "\n",
      "Epoch 4/20\n"
     ]
    },
    {
     "name": "stderr",
     "output_type": "stream",
     "text": [
      "                                                                                     \r"
     ]
    },
    {
     "name": "stdout",
     "output_type": "stream",
     "text": [
      "Train Loss: 0.1135, Train Acc: 95.65%\n",
      "Val Loss: 0.7288, Val Acc: 62.50%\n",
      "\n",
      "Epoch 5/20\n"
     ]
    },
    {
     "name": "stderr",
     "output_type": "stream",
     "text": [
      "                                                                                     \r"
     ]
    },
    {
     "name": "stdout",
     "output_type": "stream",
     "text": [
      "Train Loss: 0.1292, Train Acc: 95.40%\n",
      "Val Loss: 0.3697, Val Acc: 93.75%\n",
      "New best model saved! Validation Accuracy: 93.75%\n",
      "\n",
      "Epoch 6/20\n"
     ]
    },
    {
     "name": "stderr",
     "output_type": "stream",
     "text": [
      "                                                                                     \r"
     ]
    },
    {
     "name": "stdout",
     "output_type": "stream",
     "text": [
      "Train Loss: 0.1141, Train Acc: 95.72%\n",
      "Val Loss: 0.3480, Val Acc: 81.25%\n",
      "\n",
      "Epoch 7/20\n"
     ]
    },
    {
     "name": "stderr",
     "output_type": "stream",
     "text": [
      "                                                                                     \r"
     ]
    },
    {
     "name": "stdout",
     "output_type": "stream",
     "text": [
      "Train Loss: 0.1051, Train Acc: 96.15%\n",
      "Val Loss: 0.4188, Val Acc: 75.00%\n",
      "\n",
      "Epoch 8/20\n"
     ]
    },
    {
     "name": "stderr",
     "output_type": "stream",
     "text": [
      "                                                                                    \r"
     ]
    },
    {
     "name": "stdout",
     "output_type": "stream",
     "text": [
      "Train Loss: 0.0989, Train Acc: 96.32%\n",
      "Val Loss: 0.4821, Val Acc: 81.25%\n",
      "\n",
      "Epoch 9/20\n"
     ]
    },
    {
     "name": "stderr",
     "output_type": "stream",
     "text": [
      "                                                                                     \r"
     ]
    },
    {
     "name": "stdout",
     "output_type": "stream",
     "text": [
      "Train Loss: 0.0912, Train Acc: 96.64%\n",
      "Val Loss: 0.6422, Val Acc: 62.50%\n",
      "\n",
      "Epoch 10/20\n"
     ]
    },
    {
     "name": "stderr",
     "output_type": "stream",
     "text": [
      "                                                                                     \r"
     ]
    },
    {
     "name": "stdout",
     "output_type": "stream",
     "text": [
      "Train Loss: 0.0919, Train Acc: 96.66%\n",
      "Val Loss: 0.4028, Val Acc: 81.25%\n",
      "\n",
      "Epoch 11/20\n"
     ]
    },
    {
     "name": "stderr",
     "output_type": "stream",
     "text": [
      "                                                                                    \r"
     ]
    },
    {
     "name": "stdout",
     "output_type": "stream",
     "text": [
      "Train Loss: 0.0892, Train Acc: 96.80%\n",
      "Val Loss: 0.4035, Val Acc: 81.25%\n",
      "\n",
      "Epoch 12/20\n"
     ]
    },
    {
     "name": "stderr",
     "output_type": "stream",
     "text": [
      "                                                                                     \r"
     ]
    },
    {
     "name": "stdout",
     "output_type": "stream",
     "text": [
      "Train Loss: 0.0906, Train Acc: 96.89%\n",
      "Val Loss: 0.4425, Val Acc: 75.00%\n",
      "\n",
      "Epoch 13/20\n"
     ]
    },
    {
     "name": "stderr",
     "output_type": "stream",
     "text": [
      "                                                                                     \r"
     ]
    },
    {
     "name": "stdout",
     "output_type": "stream",
     "text": [
      "Train Loss: 0.0840, Train Acc: 96.99%\n",
      "Val Loss: 0.6248, Val Acc: 75.00%\n",
      "\n",
      "Epoch 14/20\n"
     ]
    },
    {
     "name": "stderr",
     "output_type": "stream",
     "text": [
      "                                                                                    \r"
     ]
    },
    {
     "name": "stdout",
     "output_type": "stream",
     "text": [
      "Train Loss: 0.0705, Train Acc: 97.41%\n",
      "Val Loss: 0.8723, Val Acc: 62.50%\n",
      "\n",
      "Epoch 15/20\n"
     ]
    },
    {
     "name": "stderr",
     "output_type": "stream",
     "text": [
      "                                                                                    \r"
     ]
    },
    {
     "name": "stdout",
     "output_type": "stream",
     "text": [
      "Train Loss: 0.0749, Train Acc: 97.18%\n",
      "Val Loss: 0.5992, Val Acc: 81.25%\n",
      "\n",
      "Epoch 16/20\n"
     ]
    },
    {
     "name": "stderr",
     "output_type": "stream",
     "text": [
      "                                                                                     \r"
     ]
    },
    {
     "name": "stdout",
     "output_type": "stream",
     "text": [
      "Train Loss: 0.0726, Train Acc: 97.32%\n",
      "Val Loss: 0.3923, Val Acc: 75.00%\n",
      "\n",
      "Epoch 17/20\n"
     ]
    },
    {
     "name": "stderr",
     "output_type": "stream",
     "text": [
      "                                                                                     \r"
     ]
    },
    {
     "name": "stdout",
     "output_type": "stream",
     "text": [
      "Train Loss: 0.0730, Train Acc: 97.32%\n",
      "Val Loss: 0.4565, Val Acc: 81.25%\n",
      "\n",
      "Epoch 18/20\n"
     ]
    },
    {
     "name": "stderr",
     "output_type": "stream",
     "text": [
      "                                                                                    \r"
     ]
    },
    {
     "name": "stdout",
     "output_type": "stream",
     "text": [
      "Train Loss: 0.0693, Train Acc: 97.34%\n",
      "Val Loss: 0.3575, Val Acc: 81.25%\n",
      "\n",
      "Epoch 19/20\n"
     ]
    },
    {
     "name": "stderr",
     "output_type": "stream",
     "text": [
      "                                                                                    \r"
     ]
    },
    {
     "name": "stdout",
     "output_type": "stream",
     "text": [
      "Train Loss: 0.0694, Train Acc: 97.51%\n",
      "Val Loss: 0.2931, Val Acc: 81.25%\n",
      "\n",
      "Epoch 20/20\n"
     ]
    },
    {
     "name": "stderr",
     "output_type": "stream",
     "text": [
      "                                                                                     \r"
     ]
    },
    {
     "name": "stdout",
     "output_type": "stream",
     "text": [
      "Train Loss: 0.0618, Train Acc: 97.95%\n",
      "Val Loss: 0.4285, Val Acc: 81.25%\n"
     ]
    },
    {
     "name": "stderr",
     "output_type": "stream",
     "text": [
      "d:\\Projects\\pneumonia\\pneumonia_web\\vitmodel.py:345: FutureWarning: You are using `torch.load` with `weights_only=False` (the current default value), which uses the default pickle module implicitly. It is possible to construct malicious pickle data which will execute arbitrary code during unpickling (See https://github.com/pytorch/pytorch/blob/main/SECURITY.md#untrusted-models for more details). In a future release, the default value for `weights_only` will be flipped to `True`. This limits the functions that could be executed during unpickling. Arbitrary objects will no longer be allowed to be loaded via this mode unless they are explicitly allowlisted by the user via `torch.serialization.add_safe_globals`. We recommend you start setting `weights_only=True` for any use case where you don't have full control of the loaded file. Please open an issue on GitHub for any issues related to this experimental feature.\n",
      "  best_checkpoint = torch.load(config.checkpoint_dir / 'best_model.pth')\n"
     ]
    },
    {
     "name": "stdout",
     "output_type": "stream",
     "text": [
      "\n",
      "Evaluating best model on test set...\n"
     ]
    },
    {
     "name": "stderr",
     "output_type": "stream",
     "text": [
      "                                                                                    \r"
     ]
    },
    {
     "name": "stdout",
     "output_type": "stream",
     "text": [
      "Test Accuracy: 94.87%\n",
      "\n",
      "Generating classification report...\n"
     ]
    },
    {
     "name": "stderr",
     "output_type": "stream",
     "text": [
      "Processing test data: 100%|██████████| 39/39 [00:07<00:00,  4.95it/s]"
     ]
    },
    {
     "name": "stdout",
     "output_type": "stream",
     "text": [
      "\n",
      "Classification Report:\n",
      "              precision    recall  f1-score   support\n",
      "\n",
      "      NORMAL       0.93      0.93      0.93       234\n",
      "   PNEUMONIA       0.96      0.96      0.96       390\n",
      "\n",
      "    accuracy                           0.95       624\n",
      "   macro avg       0.95      0.95      0.95       624\n",
      "weighted avg       0.95      0.95      0.95       624\n",
      "\n",
      "\n",
      "Final Results:\n",
      "ViT Test Accuracy: 94.87%\n"
     ]
    },
    {
     "name": "stderr",
     "output_type": "stream",
     "text": [
      "\n"
     ]
    }
   ],
   "source": [
    "import os\n",
    "import numpy as np\n",
    "import pandas as pd\n",
    "import torch\n",
    "import matplotlib.pyplot as plt\n",
    "from vitmodel import ChestXRayDataset, ChestXRayViT, TrainingConfig, train_model\n",
    "\n",
    "# Set random seed for reproducibility\n",
    "torch.manual_seed(123)\n",
    "np.random.seed(123)\n",
    "\n",
    "# Data loading function\n",
    "def get_data(data_dir):\n",
    "    filepaths = []\n",
    "    labels = []\n",
    "    folds = os.listdir(data_dir)\n",
    "    for fold in folds:\n",
    "        foldpath = os.path.join(data_dir, fold)\n",
    "        filelist = os.listdir(foldpath)\n",
    "        for file in filelist:\n",
    "            fpath = os.path.join(foldpath, file)\n",
    "            filepaths.append(fpath)\n",
    "            labels.append(fold)\n",
    "    return filepaths, labels\n",
    "\n",
    "def plot_training_history(history):\n",
    "    plt.figure(figsize=(12, 4))\n",
    "    \n",
    "    # Plot training & validation accuracy\n",
    "    plt.subplot(1, 2, 1)\n",
    "    plt.plot(history['train_acc'], label='Train')\n",
    "    plt.plot(history['val_acc'], label='Validation')\n",
    "    plt.title('Model Accuracy')\n",
    "    plt.xlabel('Epoch')\n",
    "    plt.ylabel('Accuracy (%)')\n",
    "    plt.legend()\n",
    "    \n",
    "    # Plot training & validation loss\n",
    "    plt.subplot(1, 2, 2)\n",
    "    plt.plot(history['train_loss'], label='Train')\n",
    "    plt.plot(history['val_loss'], label='Validation')\n",
    "    plt.title('Model Loss')\n",
    "    plt.xlabel('Epoch')\n",
    "    plt.ylabel('Loss')\n",
    "    plt.legend()\n",
    "    \n",
    "    plt.tight_layout()\n",
    "    return plt\n",
    "\n",
    "if __name__ == \"__main__\":\n",
    "    # Load data from directories\n",
    "    data_dir = '../chest_xray/train'\n",
    "    valid_dir = '../chest_xray/val'\n",
    "    test_dir = '../chest_xray/test'\n",
    "    \n",
    "    # Get data\n",
    "    filepaths, labels = get_data(data_dir)\n",
    "    valid_filepaths, valid_labels = get_data(valid_dir)\n",
    "    test_filepaths, test_labels = get_data(test_dir)\n",
    "    \n",
    "    # Create dataframes\n",
    "    train_df = pd.DataFrame({'filepaths': filepaths, 'labels': labels})\n",
    "    valid_df = pd.DataFrame({'filepaths': valid_filepaths, 'labels': valid_labels})\n",
    "    test_df = pd.DataFrame({'filepaths': test_filepaths, 'labels': test_labels})\n",
    "    \n",
    "    # Configure and train model\n",
    "    config = TrainingConfig(batch_size=16, num_epochs=20, learning_rate=2e-5)\n",
    "    \n",
    "    # Train and evaluate model\n",
    "    model, test_acc, history = train_model(config, train_df, valid_df, test_df)\n",
    "    \n",
    "    # Plot and save training history\n",
    "    plt = plot_training_history(history)\n",
    "    plt.savefig(config.checkpoint_dir / 'training_history.png')\n",
    "    plt.close()\n",
    "    \n",
    "    # Print final results\n",
    "    print(\"\\nFinal Results:\")\n",
    "    print(f\"ViT Test Accuracy: {test_acc:.2f}%\")"
   ]
  },
  {
   "cell_type": "markdown",
   "metadata": {},
   "source": [
    "## ViT model test performance on chest x-ray images"
   ]
  },
  {
   "cell_type": "code",
   "execution_count": 1,
   "metadata": {},
   "outputs": [
    {
     "name": "stderr",
     "output_type": "stream",
     "text": [
      "Some weights of ViTForImageClassification were not initialized from the model checkpoint at google/vit-base-patch16-224 and are newly initialized because the shapes did not match:\n",
      "- classifier.bias: found shape torch.Size([1000]) in the checkpoint and torch.Size([2]) in the model instantiated\n",
      "- classifier.weight: found shape torch.Size([1000, 768]) in the checkpoint and torch.Size([2, 768]) in the model instantiated\n",
      "You should probably TRAIN this model on a down-stream task to be able to use it for predictions and inference.\n",
      "Some weights of ViTForImageClassification were not initialized from the model checkpoint at google/vit-base-patch16-224 and are newly initialized because the shapes did not match:\n",
      "- classifier.bias: found shape torch.Size([1000]) in the checkpoint and torch.Size([2]) in the model instantiated\n",
      "- classifier.weight: found shape torch.Size([1000, 768]) in the checkpoint and torch.Size([2, 768]) in the model instantiated\n",
      "You should probably TRAIN this model on a down-stream task to be able to use it for predictions and inference.\n"
     ]
    },
    {
     "name": "stdout",
     "output_type": "stream",
     "text": [
      "\n",
      "Evaluating vit-chest-xray checkpoints...\n"
     ]
    },
    {
     "name": "stderr",
     "output_type": "stream",
     "text": [
      "  0%|          | 0/20 [00:00<?, ?it/s]C:\\Users\\tcs\\AppData\\Local\\Temp\\ipykernel_22484\\3026050859.py:74: FutureWarning: You are using `torch.load` with `weights_only=False` (the current default value), which uses the default pickle module implicitly. It is possible to construct malicious pickle data which will execute arbitrary code during unpickling (See https://github.com/pytorch/pytorch/blob/main/SECURITY.md#untrusted-models for more details). In a future release, the default value for `weights_only` will be flipped to `True`. This limits the functions that could be executed during unpickling. Arbitrary objects will no longer be allowed to be loaded via this mode unless they are explicitly allowlisted by the user via `torch.serialization.add_safe_globals`. We recommend you start setting `weights_only=True` for any use case where you don't have full control of the loaded file. Please open an issue on GitHub for any issues related to this experimental feature.\n",
      "  checkpoint = torch.load(checkpoint_path)\n",
      "c:\\ProgramData\\mne-python\\1.5.1_0\\envs\\CU121\\lib\\site-packages\\sklearn\\metrics\\_classification.py:386: UserWarning: A single label was found in 'y_true' and 'y_pred'. For the confusion matrix to have the correct shape, use the 'labels' parameter to pass all known labels.\n",
      "  warnings.warn(\n",
      "  5%|▌         | 1/20 [00:08<02:32,  8.04s/it]C:\\Users\\tcs\\AppData\\Local\\Temp\\ipykernel_22484\\3026050859.py:74: FutureWarning: You are using `torch.load` with `weights_only=False` (the current default value), which uses the default pickle module implicitly. It is possible to construct malicious pickle data which will execute arbitrary code during unpickling (See https://github.com/pytorch/pytorch/blob/main/SECURITY.md#untrusted-models for more details). In a future release, the default value for `weights_only` will be flipped to `True`. This limits the functions that could be executed during unpickling. Arbitrary objects will no longer be allowed to be loaded via this mode unless they are explicitly allowlisted by the user via `torch.serialization.add_safe_globals`. We recommend you start setting `weights_only=True` for any use case where you don't have full control of the loaded file. Please open an issue on GitHub for any issues related to this experimental feature.\n",
      "  checkpoint = torch.load(checkpoint_path)\n",
      "c:\\ProgramData\\mne-python\\1.5.1_0\\envs\\CU121\\lib\\site-packages\\sklearn\\metrics\\_classification.py:386: UserWarning: A single label was found in 'y_true' and 'y_pred'. For the confusion matrix to have the correct shape, use the 'labels' parameter to pass all known labels.\n",
      "  warnings.warn(\n",
      " 10%|█         | 2/20 [00:16<02:24,  8.04s/it]C:\\Users\\tcs\\AppData\\Local\\Temp\\ipykernel_22484\\3026050859.py:74: FutureWarning: You are using `torch.load` with `weights_only=False` (the current default value), which uses the default pickle module implicitly. It is possible to construct malicious pickle data which will execute arbitrary code during unpickling (See https://github.com/pytorch/pytorch/blob/main/SECURITY.md#untrusted-models for more details). In a future release, the default value for `weights_only` will be flipped to `True`. This limits the functions that could be executed during unpickling. Arbitrary objects will no longer be allowed to be loaded via this mode unless they are explicitly allowlisted by the user via `torch.serialization.add_safe_globals`. We recommend you start setting `weights_only=True` for any use case where you don't have full control of the loaded file. Please open an issue on GitHub for any issues related to this experimental feature.\n",
      "  checkpoint = torch.load(checkpoint_path)\n",
      "c:\\ProgramData\\mne-python\\1.5.1_0\\envs\\CU121\\lib\\site-packages\\sklearn\\metrics\\_classification.py:386: UserWarning: A single label was found in 'y_true' and 'y_pred'. For the confusion matrix to have the correct shape, use the 'labels' parameter to pass all known labels.\n",
      "  warnings.warn(\n",
      " 15%|█▌        | 3/20 [00:23<02:15,  7.97s/it]C:\\Users\\tcs\\AppData\\Local\\Temp\\ipykernel_22484\\3026050859.py:74: FutureWarning: You are using `torch.load` with `weights_only=False` (the current default value), which uses the default pickle module implicitly. It is possible to construct malicious pickle data which will execute arbitrary code during unpickling (See https://github.com/pytorch/pytorch/blob/main/SECURITY.md#untrusted-models for more details). In a future release, the default value for `weights_only` will be flipped to `True`. This limits the functions that could be executed during unpickling. Arbitrary objects will no longer be allowed to be loaded via this mode unless they are explicitly allowlisted by the user via `torch.serialization.add_safe_globals`. We recommend you start setting `weights_only=True` for any use case where you don't have full control of the loaded file. Please open an issue on GitHub for any issues related to this experimental feature.\n",
      "  checkpoint = torch.load(checkpoint_path)\n",
      "c:\\ProgramData\\mne-python\\1.5.1_0\\envs\\CU121\\lib\\site-packages\\sklearn\\metrics\\_classification.py:386: UserWarning: A single label was found in 'y_true' and 'y_pred'. For the confusion matrix to have the correct shape, use the 'labels' parameter to pass all known labels.\n",
      "  warnings.warn(\n",
      " 20%|██        | 4/20 [00:31<02:06,  7.93s/it]C:\\Users\\tcs\\AppData\\Local\\Temp\\ipykernel_22484\\3026050859.py:74: FutureWarning: You are using `torch.load` with `weights_only=False` (the current default value), which uses the default pickle module implicitly. It is possible to construct malicious pickle data which will execute arbitrary code during unpickling (See https://github.com/pytorch/pytorch/blob/main/SECURITY.md#untrusted-models for more details). In a future release, the default value for `weights_only` will be flipped to `True`. This limits the functions that could be executed during unpickling. Arbitrary objects will no longer be allowed to be loaded via this mode unless they are explicitly allowlisted by the user via `torch.serialization.add_safe_globals`. We recommend you start setting `weights_only=True` for any use case where you don't have full control of the loaded file. Please open an issue on GitHub for any issues related to this experimental feature.\n",
      "  checkpoint = torch.load(checkpoint_path)\n",
      "c:\\ProgramData\\mne-python\\1.5.1_0\\envs\\CU121\\lib\\site-packages\\sklearn\\metrics\\_classification.py:386: UserWarning: A single label was found in 'y_true' and 'y_pred'. For the confusion matrix to have the correct shape, use the 'labels' parameter to pass all known labels.\n",
      "  warnings.warn(\n",
      "c:\\ProgramData\\mne-python\\1.5.1_0\\envs\\CU121\\lib\\site-packages\\sklearn\\metrics\\_classification.py:386: UserWarning: A single label was found in 'y_true' and 'y_pred'. For the confusion matrix to have the correct shape, use the 'labels' parameter to pass all known labels.\n",
      "  warnings.warn(\n",
      "c:\\ProgramData\\mne-python\\1.5.1_0\\envs\\CU121\\lib\\site-packages\\sklearn\\metrics\\_classification.py:386: UserWarning: A single label was found in 'y_true' and 'y_pred'. For the confusion matrix to have the correct shape, use the 'labels' parameter to pass all known labels.\n",
      "  warnings.warn(\n",
      "c:\\ProgramData\\mne-python\\1.5.1_0\\envs\\CU121\\lib\\site-packages\\sklearn\\metrics\\_classification.py:386: UserWarning: A single label was found in 'y_true' and 'y_pred'. For the confusion matrix to have the correct shape, use the 'labels' parameter to pass all known labels.\n",
      "  warnings.warn(\n",
      "c:\\ProgramData\\mne-python\\1.5.1_0\\envs\\CU121\\lib\\site-packages\\sklearn\\metrics\\_classification.py:386: UserWarning: A single label was found in 'y_true' and 'y_pred'. For the confusion matrix to have the correct shape, use the 'labels' parameter to pass all known labels.\n",
      "  warnings.warn(\n",
      "c:\\ProgramData\\mne-python\\1.5.1_0\\envs\\CU121\\lib\\site-packages\\sklearn\\metrics\\_classification.py:386: UserWarning: A single label was found in 'y_true' and 'y_pred'. For the confusion matrix to have the correct shape, use the 'labels' parameter to pass all known labels.\n",
      "  warnings.warn(\n",
      "c:\\ProgramData\\mne-python\\1.5.1_0\\envs\\CU121\\lib\\site-packages\\sklearn\\metrics\\_classification.py:386: UserWarning: A single label was found in 'y_true' and 'y_pred'. For the confusion matrix to have the correct shape, use the 'labels' parameter to pass all known labels.\n",
      "  warnings.warn(\n",
      " 25%|██▌       | 5/20 [00:39<01:58,  7.91s/it]C:\\Users\\tcs\\AppData\\Local\\Temp\\ipykernel_22484\\3026050859.py:74: FutureWarning: You are using `torch.load` with `weights_only=False` (the current default value), which uses the default pickle module implicitly. It is possible to construct malicious pickle data which will execute arbitrary code during unpickling (See https://github.com/pytorch/pytorch/blob/main/SECURITY.md#untrusted-models for more details). In a future release, the default value for `weights_only` will be flipped to `True`. This limits the functions that could be executed during unpickling. Arbitrary objects will no longer be allowed to be loaded via this mode unless they are explicitly allowlisted by the user via `torch.serialization.add_safe_globals`. We recommend you start setting `weights_only=True` for any use case where you don't have full control of the loaded file. Please open an issue on GitHub for any issues related to this experimental feature.\n",
      "  checkpoint = torch.load(checkpoint_path)\n",
      "c:\\ProgramData\\mne-python\\1.5.1_0\\envs\\CU121\\lib\\site-packages\\sklearn\\metrics\\_classification.py:386: UserWarning: A single label was found in 'y_true' and 'y_pred'. For the confusion matrix to have the correct shape, use the 'labels' parameter to pass all known labels.\n",
      "  warnings.warn(\n",
      " 30%|███       | 6/20 [00:48<01:52,  8.07s/it]C:\\Users\\tcs\\AppData\\Local\\Temp\\ipykernel_22484\\3026050859.py:74: FutureWarning: You are using `torch.load` with `weights_only=False` (the current default value), which uses the default pickle module implicitly. It is possible to construct malicious pickle data which will execute arbitrary code during unpickling (See https://github.com/pytorch/pytorch/blob/main/SECURITY.md#untrusted-models for more details). In a future release, the default value for `weights_only` will be flipped to `True`. This limits the functions that could be executed during unpickling. Arbitrary objects will no longer be allowed to be loaded via this mode unless they are explicitly allowlisted by the user via `torch.serialization.add_safe_globals`. We recommend you start setting `weights_only=True` for any use case where you don't have full control of the loaded file. Please open an issue on GitHub for any issues related to this experimental feature.\n",
      "  checkpoint = torch.load(checkpoint_path)\n",
      "c:\\ProgramData\\mne-python\\1.5.1_0\\envs\\CU121\\lib\\site-packages\\sklearn\\metrics\\_classification.py:386: UserWarning: A single label was found in 'y_true' and 'y_pred'. For the confusion matrix to have the correct shape, use the 'labels' parameter to pass all known labels.\n",
      "  warnings.warn(\n",
      " 35%|███▌      | 7/20 [00:56<01:45,  8.11s/it]C:\\Users\\tcs\\AppData\\Local\\Temp\\ipykernel_22484\\3026050859.py:74: FutureWarning: You are using `torch.load` with `weights_only=False` (the current default value), which uses the default pickle module implicitly. It is possible to construct malicious pickle data which will execute arbitrary code during unpickling (See https://github.com/pytorch/pytorch/blob/main/SECURITY.md#untrusted-models for more details). In a future release, the default value for `weights_only` will be flipped to `True`. This limits the functions that could be executed during unpickling. Arbitrary objects will no longer be allowed to be loaded via this mode unless they are explicitly allowlisted by the user via `torch.serialization.add_safe_globals`. We recommend you start setting `weights_only=True` for any use case where you don't have full control of the loaded file. Please open an issue on GitHub for any issues related to this experimental feature.\n",
      "  checkpoint = torch.load(checkpoint_path)\n",
      "c:\\ProgramData\\mne-python\\1.5.1_0\\envs\\CU121\\lib\\site-packages\\sklearn\\metrics\\_classification.py:386: UserWarning: A single label was found in 'y_true' and 'y_pred'. For the confusion matrix to have the correct shape, use the 'labels' parameter to pass all known labels.\n",
      "  warnings.warn(\n",
      "c:\\ProgramData\\mne-python\\1.5.1_0\\envs\\CU121\\lib\\site-packages\\sklearn\\metrics\\_classification.py:386: UserWarning: A single label was found in 'y_true' and 'y_pred'. For the confusion matrix to have the correct shape, use the 'labels' parameter to pass all known labels.\n",
      "  warnings.warn(\n",
      "c:\\ProgramData\\mne-python\\1.5.1_0\\envs\\CU121\\lib\\site-packages\\sklearn\\metrics\\_classification.py:386: UserWarning: A single label was found in 'y_true' and 'y_pred'. For the confusion matrix to have the correct shape, use the 'labels' parameter to pass all known labels.\n",
      "  warnings.warn(\n",
      "c:\\ProgramData\\mne-python\\1.5.1_0\\envs\\CU121\\lib\\site-packages\\sklearn\\metrics\\_classification.py:386: UserWarning: A single label was found in 'y_true' and 'y_pred'. For the confusion matrix to have the correct shape, use the 'labels' parameter to pass all known labels.\n",
      "  warnings.warn(\n",
      "c:\\ProgramData\\mne-python\\1.5.1_0\\envs\\CU121\\lib\\site-packages\\sklearn\\metrics\\_classification.py:386: UserWarning: A single label was found in 'y_true' and 'y_pred'. For the confusion matrix to have the correct shape, use the 'labels' parameter to pass all known labels.\n",
      "  warnings.warn(\n",
      " 40%|████      | 8/20 [01:04<01:38,  8.17s/it]C:\\Users\\tcs\\AppData\\Local\\Temp\\ipykernel_22484\\3026050859.py:74: FutureWarning: You are using `torch.load` with `weights_only=False` (the current default value), which uses the default pickle module implicitly. It is possible to construct malicious pickle data which will execute arbitrary code during unpickling (See https://github.com/pytorch/pytorch/blob/main/SECURITY.md#untrusted-models for more details). In a future release, the default value for `weights_only` will be flipped to `True`. This limits the functions that could be executed during unpickling. Arbitrary objects will no longer be allowed to be loaded via this mode unless they are explicitly allowlisted by the user via `torch.serialization.add_safe_globals`. We recommend you start setting `weights_only=True` for any use case where you don't have full control of the loaded file. Please open an issue on GitHub for any issues related to this experimental feature.\n",
      "  checkpoint = torch.load(checkpoint_path)\n",
      "c:\\ProgramData\\mne-python\\1.5.1_0\\envs\\CU121\\lib\\site-packages\\sklearn\\metrics\\_classification.py:386: UserWarning: A single label was found in 'y_true' and 'y_pred'. For the confusion matrix to have the correct shape, use the 'labels' parameter to pass all known labels.\n",
      "  warnings.warn(\n",
      " 45%|████▌     | 9/20 [01:12<01:30,  8.20s/it]C:\\Users\\tcs\\AppData\\Local\\Temp\\ipykernel_22484\\3026050859.py:74: FutureWarning: You are using `torch.load` with `weights_only=False` (the current default value), which uses the default pickle module implicitly. It is possible to construct malicious pickle data which will execute arbitrary code during unpickling (See https://github.com/pytorch/pytorch/blob/main/SECURITY.md#untrusted-models for more details). In a future release, the default value for `weights_only` will be flipped to `True`. This limits the functions that could be executed during unpickling. Arbitrary objects will no longer be allowed to be loaded via this mode unless they are explicitly allowlisted by the user via `torch.serialization.add_safe_globals`. We recommend you start setting `weights_only=True` for any use case where you don't have full control of the loaded file. Please open an issue on GitHub for any issues related to this experimental feature.\n",
      "  checkpoint = torch.load(checkpoint_path)\n",
      "c:\\ProgramData\\mne-python\\1.5.1_0\\envs\\CU121\\lib\\site-packages\\sklearn\\metrics\\_classification.py:386: UserWarning: A single label was found in 'y_true' and 'y_pred'. For the confusion matrix to have the correct shape, use the 'labels' parameter to pass all known labels.\n",
      "  warnings.warn(\n",
      " 50%|█████     | 10/20 [01:21<01:22,  8.28s/it]C:\\Users\\tcs\\AppData\\Local\\Temp\\ipykernel_22484\\3026050859.py:74: FutureWarning: You are using `torch.load` with `weights_only=False` (the current default value), which uses the default pickle module implicitly. It is possible to construct malicious pickle data which will execute arbitrary code during unpickling (See https://github.com/pytorch/pytorch/blob/main/SECURITY.md#untrusted-models for more details). In a future release, the default value for `weights_only` will be flipped to `True`. This limits the functions that could be executed during unpickling. Arbitrary objects will no longer be allowed to be loaded via this mode unless they are explicitly allowlisted by the user via `torch.serialization.add_safe_globals`. We recommend you start setting `weights_only=True` for any use case where you don't have full control of the loaded file. Please open an issue on GitHub for any issues related to this experimental feature.\n",
      "  checkpoint = torch.load(checkpoint_path)\n",
      "c:\\ProgramData\\mne-python\\1.5.1_0\\envs\\CU121\\lib\\site-packages\\sklearn\\metrics\\_classification.py:386: UserWarning: A single label was found in 'y_true' and 'y_pred'. For the confusion matrix to have the correct shape, use the 'labels' parameter to pass all known labels.\n",
      "  warnings.warn(\n",
      "c:\\ProgramData\\mne-python\\1.5.1_0\\envs\\CU121\\lib\\site-packages\\sklearn\\metrics\\_classification.py:386: UserWarning: A single label was found in 'y_true' and 'y_pred'. For the confusion matrix to have the correct shape, use the 'labels' parameter to pass all known labels.\n",
      "  warnings.warn(\n",
      " 55%|█████▌    | 11/20 [01:29<01:13,  8.21s/it]C:\\Users\\tcs\\AppData\\Local\\Temp\\ipykernel_22484\\3026050859.py:74: FutureWarning: You are using `torch.load` with `weights_only=False` (the current default value), which uses the default pickle module implicitly. It is possible to construct malicious pickle data which will execute arbitrary code during unpickling (See https://github.com/pytorch/pytorch/blob/main/SECURITY.md#untrusted-models for more details). In a future release, the default value for `weights_only` will be flipped to `True`. This limits the functions that could be executed during unpickling. Arbitrary objects will no longer be allowed to be loaded via this mode unless they are explicitly allowlisted by the user via `torch.serialization.add_safe_globals`. We recommend you start setting `weights_only=True` for any use case where you don't have full control of the loaded file. Please open an issue on GitHub for any issues related to this experimental feature.\n",
      "  checkpoint = torch.load(checkpoint_path)\n",
      "c:\\ProgramData\\mne-python\\1.5.1_0\\envs\\CU121\\lib\\site-packages\\sklearn\\metrics\\_classification.py:386: UserWarning: A single label was found in 'y_true' and 'y_pred'. For the confusion matrix to have the correct shape, use the 'labels' parameter to pass all known labels.\n",
      "  warnings.warn(\n",
      " 60%|██████    | 12/20 [01:37<01:05,  8.14s/it]C:\\Users\\tcs\\AppData\\Local\\Temp\\ipykernel_22484\\3026050859.py:74: FutureWarning: You are using `torch.load` with `weights_only=False` (the current default value), which uses the default pickle module implicitly. It is possible to construct malicious pickle data which will execute arbitrary code during unpickling (See https://github.com/pytorch/pytorch/blob/main/SECURITY.md#untrusted-models for more details). In a future release, the default value for `weights_only` will be flipped to `True`. This limits the functions that could be executed during unpickling. Arbitrary objects will no longer be allowed to be loaded via this mode unless they are explicitly allowlisted by the user via `torch.serialization.add_safe_globals`. We recommend you start setting `weights_only=True` for any use case where you don't have full control of the loaded file. Please open an issue on GitHub for any issues related to this experimental feature.\n",
      "  checkpoint = torch.load(checkpoint_path)\n",
      "c:\\ProgramData\\mne-python\\1.5.1_0\\envs\\CU121\\lib\\site-packages\\sklearn\\metrics\\_classification.py:386: UserWarning: A single label was found in 'y_true' and 'y_pred'. For the confusion matrix to have the correct shape, use the 'labels' parameter to pass all known labels.\n",
      "  warnings.warn(\n",
      " 65%|██████▌   | 13/20 [01:45<00:56,  8.10s/it]C:\\Users\\tcs\\AppData\\Local\\Temp\\ipykernel_22484\\3026050859.py:74: FutureWarning: You are using `torch.load` with `weights_only=False` (the current default value), which uses the default pickle module implicitly. It is possible to construct malicious pickle data which will execute arbitrary code during unpickling (See https://github.com/pytorch/pytorch/blob/main/SECURITY.md#untrusted-models for more details). In a future release, the default value for `weights_only` will be flipped to `True`. This limits the functions that could be executed during unpickling. Arbitrary objects will no longer be allowed to be loaded via this mode unless they are explicitly allowlisted by the user via `torch.serialization.add_safe_globals`. We recommend you start setting `weights_only=True` for any use case where you don't have full control of the loaded file. Please open an issue on GitHub for any issues related to this experimental feature.\n",
      "  checkpoint = torch.load(checkpoint_path)\n",
      "c:\\ProgramData\\mne-python\\1.5.1_0\\envs\\CU121\\lib\\site-packages\\sklearn\\metrics\\_classification.py:386: UserWarning: A single label was found in 'y_true' and 'y_pred'. For the confusion matrix to have the correct shape, use the 'labels' parameter to pass all known labels.\n",
      "  warnings.warn(\n",
      " 70%|███████   | 14/20 [01:53<00:48,  8.06s/it]C:\\Users\\tcs\\AppData\\Local\\Temp\\ipykernel_22484\\3026050859.py:74: FutureWarning: You are using `torch.load` with `weights_only=False` (the current default value), which uses the default pickle module implicitly. It is possible to construct malicious pickle data which will execute arbitrary code during unpickling (See https://github.com/pytorch/pytorch/blob/main/SECURITY.md#untrusted-models for more details). In a future release, the default value for `weights_only` will be flipped to `True`. This limits the functions that could be executed during unpickling. Arbitrary objects will no longer be allowed to be loaded via this mode unless they are explicitly allowlisted by the user via `torch.serialization.add_safe_globals`. We recommend you start setting `weights_only=True` for any use case where you don't have full control of the loaded file. Please open an issue on GitHub for any issues related to this experimental feature.\n",
      "  checkpoint = torch.load(checkpoint_path)\n",
      "c:\\ProgramData\\mne-python\\1.5.1_0\\envs\\CU121\\lib\\site-packages\\sklearn\\metrics\\_classification.py:386: UserWarning: A single label was found in 'y_true' and 'y_pred'. For the confusion matrix to have the correct shape, use the 'labels' parameter to pass all known labels.\n",
      "  warnings.warn(\n",
      "c:\\ProgramData\\mne-python\\1.5.1_0\\envs\\CU121\\lib\\site-packages\\sklearn\\metrics\\_classification.py:386: UserWarning: A single label was found in 'y_true' and 'y_pred'. For the confusion matrix to have the correct shape, use the 'labels' parameter to pass all known labels.\n",
      "  warnings.warn(\n",
      "c:\\ProgramData\\mne-python\\1.5.1_0\\envs\\CU121\\lib\\site-packages\\sklearn\\metrics\\_classification.py:386: UserWarning: A single label was found in 'y_true' and 'y_pred'. For the confusion matrix to have the correct shape, use the 'labels' parameter to pass all known labels.\n",
      "  warnings.warn(\n",
      "c:\\ProgramData\\mne-python\\1.5.1_0\\envs\\CU121\\lib\\site-packages\\sklearn\\metrics\\_classification.py:386: UserWarning: A single label was found in 'y_true' and 'y_pred'. For the confusion matrix to have the correct shape, use the 'labels' parameter to pass all known labels.\n",
      "  warnings.warn(\n",
      " 75%|███████▌  | 15/20 [02:01<00:40,  8.05s/it]C:\\Users\\tcs\\AppData\\Local\\Temp\\ipykernel_22484\\3026050859.py:74: FutureWarning: You are using `torch.load` with `weights_only=False` (the current default value), which uses the default pickle module implicitly. It is possible to construct malicious pickle data which will execute arbitrary code during unpickling (See https://github.com/pytorch/pytorch/blob/main/SECURITY.md#untrusted-models for more details). In a future release, the default value for `weights_only` will be flipped to `True`. This limits the functions that could be executed during unpickling. Arbitrary objects will no longer be allowed to be loaded via this mode unless they are explicitly allowlisted by the user via `torch.serialization.add_safe_globals`. We recommend you start setting `weights_only=True` for any use case where you don't have full control of the loaded file. Please open an issue on GitHub for any issues related to this experimental feature.\n",
      "  checkpoint = torch.load(checkpoint_path)\n",
      "c:\\ProgramData\\mne-python\\1.5.1_0\\envs\\CU121\\lib\\site-packages\\sklearn\\metrics\\_classification.py:386: UserWarning: A single label was found in 'y_true' and 'y_pred'. For the confusion matrix to have the correct shape, use the 'labels' parameter to pass all known labels.\n",
      "  warnings.warn(\n",
      "c:\\ProgramData\\mne-python\\1.5.1_0\\envs\\CU121\\lib\\site-packages\\sklearn\\metrics\\_classification.py:386: UserWarning: A single label was found in 'y_true' and 'y_pred'. For the confusion matrix to have the correct shape, use the 'labels' parameter to pass all known labels.\n",
      "  warnings.warn(\n",
      "c:\\ProgramData\\mne-python\\1.5.1_0\\envs\\CU121\\lib\\site-packages\\sklearn\\metrics\\_classification.py:386: UserWarning: A single label was found in 'y_true' and 'y_pred'. For the confusion matrix to have the correct shape, use the 'labels' parameter to pass all known labels.\n",
      "  warnings.warn(\n",
      "c:\\ProgramData\\mne-python\\1.5.1_0\\envs\\CU121\\lib\\site-packages\\sklearn\\metrics\\_classification.py:386: UserWarning: A single label was found in 'y_true' and 'y_pred'. For the confusion matrix to have the correct shape, use the 'labels' parameter to pass all known labels.\n",
      "  warnings.warn(\n",
      "c:\\ProgramData\\mne-python\\1.5.1_0\\envs\\CU121\\lib\\site-packages\\sklearn\\metrics\\_classification.py:386: UserWarning: A single label was found in 'y_true' and 'y_pred'. For the confusion matrix to have the correct shape, use the 'labels' parameter to pass all known labels.\n",
      "  warnings.warn(\n",
      "c:\\ProgramData\\mne-python\\1.5.1_0\\envs\\CU121\\lib\\site-packages\\sklearn\\metrics\\_classification.py:386: UserWarning: A single label was found in 'y_true' and 'y_pred'. For the confusion matrix to have the correct shape, use the 'labels' parameter to pass all known labels.\n",
      "  warnings.warn(\n",
      "c:\\ProgramData\\mne-python\\1.5.1_0\\envs\\CU121\\lib\\site-packages\\sklearn\\metrics\\_classification.py:386: UserWarning: A single label was found in 'y_true' and 'y_pred'. For the confusion matrix to have the correct shape, use the 'labels' parameter to pass all known labels.\n",
      "  warnings.warn(\n",
      " 80%|████████  | 16/20 [02:09<00:32,  8.06s/it]C:\\Users\\tcs\\AppData\\Local\\Temp\\ipykernel_22484\\3026050859.py:74: FutureWarning: You are using `torch.load` with `weights_only=False` (the current default value), which uses the default pickle module implicitly. It is possible to construct malicious pickle data which will execute arbitrary code during unpickling (See https://github.com/pytorch/pytorch/blob/main/SECURITY.md#untrusted-models for more details). In a future release, the default value for `weights_only` will be flipped to `True`. This limits the functions that could be executed during unpickling. Arbitrary objects will no longer be allowed to be loaded via this mode unless they are explicitly allowlisted by the user via `torch.serialization.add_safe_globals`. We recommend you start setting `weights_only=True` for any use case where you don't have full control of the loaded file. Please open an issue on GitHub for any issues related to this experimental feature.\n",
      "  checkpoint = torch.load(checkpoint_path)\n",
      "c:\\ProgramData\\mne-python\\1.5.1_0\\envs\\CU121\\lib\\site-packages\\sklearn\\metrics\\_classification.py:386: UserWarning: A single label was found in 'y_true' and 'y_pred'. For the confusion matrix to have the correct shape, use the 'labels' parameter to pass all known labels.\n",
      "  warnings.warn(\n",
      "c:\\ProgramData\\mne-python\\1.5.1_0\\envs\\CU121\\lib\\site-packages\\sklearn\\metrics\\_classification.py:386: UserWarning: A single label was found in 'y_true' and 'y_pred'. For the confusion matrix to have the correct shape, use the 'labels' parameter to pass all known labels.\n",
      "  warnings.warn(\n",
      "c:\\ProgramData\\mne-python\\1.5.1_0\\envs\\CU121\\lib\\site-packages\\sklearn\\metrics\\_classification.py:386: UserWarning: A single label was found in 'y_true' and 'y_pred'. For the confusion matrix to have the correct shape, use the 'labels' parameter to pass all known labels.\n",
      "  warnings.warn(\n",
      "c:\\ProgramData\\mne-python\\1.5.1_0\\envs\\CU121\\lib\\site-packages\\sklearn\\metrics\\_classification.py:386: UserWarning: A single label was found in 'y_true' and 'y_pred'. For the confusion matrix to have the correct shape, use the 'labels' parameter to pass all known labels.\n",
      "  warnings.warn(\n",
      "c:\\ProgramData\\mne-python\\1.5.1_0\\envs\\CU121\\lib\\site-packages\\sklearn\\metrics\\_classification.py:386: UserWarning: A single label was found in 'y_true' and 'y_pred'. For the confusion matrix to have the correct shape, use the 'labels' parameter to pass all known labels.\n",
      "  warnings.warn(\n",
      "c:\\ProgramData\\mne-python\\1.5.1_0\\envs\\CU121\\lib\\site-packages\\sklearn\\metrics\\_classification.py:386: UserWarning: A single label was found in 'y_true' and 'y_pred'. For the confusion matrix to have the correct shape, use the 'labels' parameter to pass all known labels.\n",
      "  warnings.warn(\n",
      "c:\\ProgramData\\mne-python\\1.5.1_0\\envs\\CU121\\lib\\site-packages\\sklearn\\metrics\\_classification.py:386: UserWarning: A single label was found in 'y_true' and 'y_pred'. For the confusion matrix to have the correct shape, use the 'labels' parameter to pass all known labels.\n",
      "  warnings.warn(\n",
      " 85%|████████▌ | 17/20 [02:26<00:32, 10.78s/it]C:\\Users\\tcs\\AppData\\Local\\Temp\\ipykernel_22484\\3026050859.py:74: FutureWarning: You are using `torch.load` with `weights_only=False` (the current default value), which uses the default pickle module implicitly. It is possible to construct malicious pickle data which will execute arbitrary code during unpickling (See https://github.com/pytorch/pytorch/blob/main/SECURITY.md#untrusted-models for more details). In a future release, the default value for `weights_only` will be flipped to `True`. This limits the functions that could be executed during unpickling. Arbitrary objects will no longer be allowed to be loaded via this mode unless they are explicitly allowlisted by the user via `torch.serialization.add_safe_globals`. We recommend you start setting `weights_only=True` for any use case where you don't have full control of the loaded file. Please open an issue on GitHub for any issues related to this experimental feature.\n",
      "  checkpoint = torch.load(checkpoint_path)\n",
      "c:\\ProgramData\\mne-python\\1.5.1_0\\envs\\CU121\\lib\\site-packages\\sklearn\\metrics\\_classification.py:386: UserWarning: A single label was found in 'y_true' and 'y_pred'. For the confusion matrix to have the correct shape, use the 'labels' parameter to pass all known labels.\n",
      "  warnings.warn(\n",
      "c:\\ProgramData\\mne-python\\1.5.1_0\\envs\\CU121\\lib\\site-packages\\sklearn\\metrics\\_classification.py:386: UserWarning: A single label was found in 'y_true' and 'y_pred'. For the confusion matrix to have the correct shape, use the 'labels' parameter to pass all known labels.\n",
      "  warnings.warn(\n",
      "c:\\ProgramData\\mne-python\\1.5.1_0\\envs\\CU121\\lib\\site-packages\\sklearn\\metrics\\_classification.py:386: UserWarning: A single label was found in 'y_true' and 'y_pred'. For the confusion matrix to have the correct shape, use the 'labels' parameter to pass all known labels.\n",
      "  warnings.warn(\n",
      "c:\\ProgramData\\mne-python\\1.5.1_0\\envs\\CU121\\lib\\site-packages\\sklearn\\metrics\\_classification.py:386: UserWarning: A single label was found in 'y_true' and 'y_pred'. For the confusion matrix to have the correct shape, use the 'labels' parameter to pass all known labels.\n",
      "  warnings.warn(\n",
      "c:\\ProgramData\\mne-python\\1.5.1_0\\envs\\CU121\\lib\\site-packages\\sklearn\\metrics\\_classification.py:386: UserWarning: A single label was found in 'y_true' and 'y_pred'. For the confusion matrix to have the correct shape, use the 'labels' parameter to pass all known labels.\n",
      "  warnings.warn(\n",
      "c:\\ProgramData\\mne-python\\1.5.1_0\\envs\\CU121\\lib\\site-packages\\sklearn\\metrics\\_classification.py:386: UserWarning: A single label was found in 'y_true' and 'y_pred'. For the confusion matrix to have the correct shape, use the 'labels' parameter to pass all known labels.\n",
      "  warnings.warn(\n",
      "c:\\ProgramData\\mne-python\\1.5.1_0\\envs\\CU121\\lib\\site-packages\\sklearn\\metrics\\_classification.py:386: UserWarning: A single label was found in 'y_true' and 'y_pred'. For the confusion matrix to have the correct shape, use the 'labels' parameter to pass all known labels.\n",
      "  warnings.warn(\n",
      " 90%|█████████ | 18/20 [02:34<00:20, 10.01s/it]C:\\Users\\tcs\\AppData\\Local\\Temp\\ipykernel_22484\\3026050859.py:74: FutureWarning: You are using `torch.load` with `weights_only=False` (the current default value), which uses the default pickle module implicitly. It is possible to construct malicious pickle data which will execute arbitrary code during unpickling (See https://github.com/pytorch/pytorch/blob/main/SECURITY.md#untrusted-models for more details). In a future release, the default value for `weights_only` will be flipped to `True`. This limits the functions that could be executed during unpickling. Arbitrary objects will no longer be allowed to be loaded via this mode unless they are explicitly allowlisted by the user via `torch.serialization.add_safe_globals`. We recommend you start setting `weights_only=True` for any use case where you don't have full control of the loaded file. Please open an issue on GitHub for any issues related to this experimental feature.\n",
      "  checkpoint = torch.load(checkpoint_path)\n",
      "c:\\ProgramData\\mne-python\\1.5.1_0\\envs\\CU121\\lib\\site-packages\\sklearn\\metrics\\_classification.py:386: UserWarning: A single label was found in 'y_true' and 'y_pred'. For the confusion matrix to have the correct shape, use the 'labels' parameter to pass all known labels.\n",
      "  warnings.warn(\n",
      "c:\\ProgramData\\mne-python\\1.5.1_0\\envs\\CU121\\lib\\site-packages\\sklearn\\metrics\\_classification.py:386: UserWarning: A single label was found in 'y_true' and 'y_pred'. For the confusion matrix to have the correct shape, use the 'labels' parameter to pass all known labels.\n",
      "  warnings.warn(\n",
      "c:\\ProgramData\\mne-python\\1.5.1_0\\envs\\CU121\\lib\\site-packages\\sklearn\\metrics\\_classification.py:386: UserWarning: A single label was found in 'y_true' and 'y_pred'. For the confusion matrix to have the correct shape, use the 'labels' parameter to pass all known labels.\n",
      "  warnings.warn(\n",
      "c:\\ProgramData\\mne-python\\1.5.1_0\\envs\\CU121\\lib\\site-packages\\sklearn\\metrics\\_classification.py:386: UserWarning: A single label was found in 'y_true' and 'y_pred'. For the confusion matrix to have the correct shape, use the 'labels' parameter to pass all known labels.\n",
      "  warnings.warn(\n",
      " 95%|█████████▌| 19/20 [02:42<00:09,  9.47s/it]C:\\Users\\tcs\\AppData\\Local\\Temp\\ipykernel_22484\\3026050859.py:74: FutureWarning: You are using `torch.load` with `weights_only=False` (the current default value), which uses the default pickle module implicitly. It is possible to construct malicious pickle data which will execute arbitrary code during unpickling (See https://github.com/pytorch/pytorch/blob/main/SECURITY.md#untrusted-models for more details). In a future release, the default value for `weights_only` will be flipped to `True`. This limits the functions that could be executed during unpickling. Arbitrary objects will no longer be allowed to be loaded via this mode unless they are explicitly allowlisted by the user via `torch.serialization.add_safe_globals`. We recommend you start setting `weights_only=True` for any use case where you don't have full control of the loaded file. Please open an issue on GitHub for any issues related to this experimental feature.\n",
      "  checkpoint = torch.load(checkpoint_path)\n",
      "c:\\ProgramData\\mne-python\\1.5.1_0\\envs\\CU121\\lib\\site-packages\\sklearn\\metrics\\_classification.py:386: UserWarning: A single label was found in 'y_true' and 'y_pred'. For the confusion matrix to have the correct shape, use the 'labels' parameter to pass all known labels.\n",
      "  warnings.warn(\n",
      "c:\\ProgramData\\mne-python\\1.5.1_0\\envs\\CU121\\lib\\site-packages\\sklearn\\metrics\\_classification.py:386: UserWarning: A single label was found in 'y_true' and 'y_pred'. For the confusion matrix to have the correct shape, use the 'labels' parameter to pass all known labels.\n",
      "  warnings.warn(\n",
      "c:\\ProgramData\\mne-python\\1.5.1_0\\envs\\CU121\\lib\\site-packages\\sklearn\\metrics\\_classification.py:386: UserWarning: A single label was found in 'y_true' and 'y_pred'. For the confusion matrix to have the correct shape, use the 'labels' parameter to pass all known labels.\n",
      "  warnings.warn(\n",
      "c:\\ProgramData\\mne-python\\1.5.1_0\\envs\\CU121\\lib\\site-packages\\sklearn\\metrics\\_classification.py:386: UserWarning: A single label was found in 'y_true' and 'y_pred'. For the confusion matrix to have the correct shape, use the 'labels' parameter to pass all known labels.\n",
      "  warnings.warn(\n",
      "100%|██████████| 20/20 [02:50<00:00,  8.54s/it]\n"
     ]
    },
    {
     "name": "stdout",
     "output_type": "stream",
     "text": [
      "\n",
      "Best epoch for vit-chest-xray:\n",
      "Epoch: 16\n",
      "Test Accuracy: 95.35%\n",
      "Test AUC: 98.97%\n",
      "Test Specificity: 96.15%\n",
      "Test F1-Score: 95.37%\n",
      "\n",
      "Summary Statistics:\n",
      "               test_acc              test_auc              test_specificity  \\\n",
      "                    max   mean   std      max   mean   std              max   \n",
      "model_name                                                                    \n",
      "vit-chest-xray    95.35  93.71  1.61    99.22  98.57  0.52            96.15   \n",
      "\n",
      "                            test_precision              test_recall         \\\n",
      "                 mean   std            max   mean   std         max   mean   \n",
      "model_name                                                                   \n",
      "vit-chest-xray  88.65  6.27          95.45  93.92  1.33       95.35  93.71   \n",
      "\n",
      "                     test_f1               \n",
      "                 std     max   mean   std  \n",
      "model_name                                 \n",
      "vit-chest-xray  1.61   95.37  93.65  1.71  \n"
     ]
    }
   ],
   "source": [
    "import os\n",
    "import torch\n",
    "import pandas as pd\n",
    "import numpy as np\n",
    "from pathlib import Path\n",
    "from tqdm import tqdm\n",
    "from sklearn.metrics import (accuracy_score, precision_score, recall_score, \n",
    "                           f1_score, roc_auc_score, confusion_matrix)\n",
    "import matplotlib.pyplot as plt\n",
    "import seaborn as sns\n",
    "from sklearn.metrics import roc_curve\n",
    "from vitmodel import ChestXRayViT, create_data_loaders, get_data\n",
    "\n",
    "def calculate_specificity(y_true, y_pred):\n",
    "    \"\"\"Calculate specificity (true negative rate)\"\"\"\n",
    "    tn, fp, fn, tp = confusion_matrix(y_true, y_pred).ravel()\n",
    "    return tn / (tn + fp)\n",
    "\n",
    "def evaluate_model(model, test_loader, device):\n",
    "    \"\"\"Evaluate model performance on test dataset\"\"\"\n",
    "    model.eval()\n",
    "    all_preds = []\n",
    "    all_labels = []\n",
    "    all_probs = []  # For AUC calculation\n",
    "    \n",
    "    with torch.no_grad():\n",
    "        for inputs, labels in test_loader:\n",
    "            inputs, labels = inputs.to(device), labels.to(device)\n",
    "            outputs = model(inputs)\n",
    "            probabilities = torch.softmax(outputs, dim=1)\n",
    "            _, predicted = outputs.max(1)\n",
    "            \n",
    "            all_preds.extend(predicted.cpu().numpy())\n",
    "            all_labels.extend(labels.cpu().numpy())\n",
    "            all_probs.extend(probabilities[:, 1].cpu().numpy())  # Probability of positive class\n",
    "            cm = confusion_matrix(all_labels, all_preds)\n",
    "            \n",
    "    \n",
    "    # Calculate metrics\n",
    "    metrics = {\n",
    "        'accuracy': accuracy_score(all_labels, all_preds),\n",
    "        'precision': precision_score(all_labels, all_preds, average='weighted'),\n",
    "        'recall': recall_score(all_labels, all_preds, average='weighted'),\n",
    "        'specificity': calculate_specificity(all_labels, all_preds),\n",
    "        'f1': f1_score(all_labels, all_preds, average='weighted'),\n",
    "        'auc': roc_auc_score(all_labels, all_probs),\n",
    "        'cm': cm,\n",
    "        'all_preds': all_preds,\n",
    "        'all_labels': all_labels\n",
    "    }\n",
    "    \n",
    "    return metrics\n",
    "\n",
    "def evaluate_all_epochs(model_name, checkpoint_dir, test_loader):\n",
    "    \"\"\"Evaluate models from all epochs\"\"\"\n",
    "    device = torch.device('cuda' if torch.cuda.is_available() else 'cpu')\n",
    "    results = []\n",
    "    \n",
    "    # Initialize model\n",
    "    model = ChestXRayViT().to(device)\n",
    "    \n",
    "    # Get all checkpoint files\n",
    "    checkpoint_files = sorted(\n",
    "        [f for f in os.listdir(checkpoint_dir) if f.startswith('epoch_') and f.endswith('.pth')],\n",
    "        key=lambda x: int(x.split('_')[1].split('.')[0])\n",
    "    )\n",
    "    \n",
    "    print(f\"\\nEvaluating {model_name} checkpoints...\")\n",
    "    for checkpoint_file in tqdm(checkpoint_files):\n",
    "        epoch_num = int(checkpoint_file.split('_')[1].split('.')[0])\n",
    "        \n",
    "        # Load checkpoint\n",
    "        checkpoint_path = os.path.join(checkpoint_dir, checkpoint_file)\n",
    "        checkpoint = torch.load(checkpoint_path)\n",
    "        model.load_state_dict(checkpoint['model_state_dict'])\n",
    "        \n",
    "        # Evaluate model\n",
    "        metrics = evaluate_model(model, test_loader, device)\n",
    "\n",
    "        # plot confusion matrix\n",
    "        cm = metrics['cm']\n",
    "        plt.figure(figsize=(5, 5))\n",
    "        \n",
    "        plt.rcParams.update({'font.size': 18})  # Set base font size\n",
    "        sns.heatmap(cm, annot=True, fmt='g', cmap='Blues', cbar=False,\n",
    "                    xticklabels=['Normal', 'Pneumonia'],\n",
    "                    yticklabels=['Normal', 'Pneumonia'],\n",
    "                    annot_kws={'size': 18})\n",
    "        plt.xlabel('Prediction', fontsize=18)\n",
    "        plt.ylabel('Truth', fontsize=18)\n",
    "        # plt.title(f'{'Confusion Matrix'\n",
    "        plt.tight_layout()\n",
    "        plt.savefig(f'../checkpoints/{model_name}/epoch_{epoch_num}_confusion_matrix.png')\n",
    "        plt.close()\n",
    "        \n",
    "        # plot ROC curve\n",
    "        fpr, tpr, _ = roc_curve(metrics['all_labels'], metrics['all_preds'])\n",
    "        plt.figure(figsize=(4, 4))\n",
    "        plt.plot(fpr, tpr, color='darkorange', lw=2, label='ROC curve')\n",
    "        plt.plot([0, 1], [0, 1], color='navy', lw=2, linestyle='--')\n",
    "        plt.xlabel('False Positive Rate')\n",
    "        plt.ylabel('True Positive Rate')\n",
    "        plt.title(f'{model_name} - Epoch {epoch_num} ROC Curve')\n",
    "        plt.legend(loc='lower right')\n",
    "        plt.tight_layout()\n",
    "        plt.savefig(f'../checkpoints/{model_name}/epoch_{epoch_num}_roc_curve.png')\n",
    "        plt.close()\n",
    "\n",
    "        # Store results\n",
    "        results.append({\n",
    "            'model_name': model_name,\n",
    "            'epoch': epoch_num,\n",
    "            'train_loss': checkpoint['train_loss'],\n",
    "            'train_acc': checkpoint['train_acc'],\n",
    "            'val_loss': checkpoint['val_loss'],\n",
    "            'val_acc': checkpoint['val_acc'],\n",
    "            'test_acc': metrics['accuracy'] * 100,\n",
    "            'test_precision': metrics['precision'] * 100,\n",
    "            'test_recall': metrics['recall'] * 100,\n",
    "            'test_specificity': metrics['specificity'] * 100,\n",
    "            'test_f1': metrics['f1'] * 100,\n",
    "            'test_auc': metrics['auc'] * 100\n",
    "        })\n",
    "    \n",
    "    return pd.DataFrame(results)\n",
    "\n",
    "def plot_epoch_metrics(df, model_name):\n",
    "    \"\"\"Plot metrics across epochs\"\"\"\n",
    "    plt.figure(figsize=(15, 10))\n",
    "    \n",
    "    # Plot accuracies\n",
    "    plt.subplot(2, 2, 1)\n",
    "    plt.plot(df['epoch'], df['train_acc'], label='Train')\n",
    "    plt.plot(df['epoch'], df['val_acc'], label='Validation')\n",
    "    plt.plot(df['epoch'], df['test_acc'], label='Test')\n",
    "    plt.title(f'{model_name} - Accuracy Across Epochs')\n",
    "    plt.xlabel('Epoch')\n",
    "    plt.ylabel('Accuracy (%)')\n",
    "    plt.legend()\n",
    "    \n",
    "    # Plot test classification metrics\n",
    "    plt.subplot(2, 2, 2)\n",
    "    plt.plot(df['epoch'], df['test_precision'], label='Precision')\n",
    "    plt.plot(df['epoch'], df['test_recall'], label='Recall')\n",
    "    plt.plot(df['epoch'], df['test_specificity'], label='Specificity')\n",
    "    plt.plot(df['epoch'], df['test_f1'], label='F1')\n",
    "    plt.title(f'{model_name} - Test Classification Metrics')\n",
    "    plt.xlabel('Epoch')\n",
    "    plt.ylabel('Score (%)')\n",
    "    plt.legend()\n",
    "    \n",
    "    # Plot losses\n",
    "    plt.subplot(2, 2, 3)\n",
    "    plt.plot(df['epoch'], df['train_loss'], label='Train')\n",
    "    plt.plot(df['epoch'], df['val_loss'], label='Validation')\n",
    "    plt.title(f'{model_name} - Loss Across Epochs')\n",
    "    plt.xlabel('Epoch')\n",
    "    plt.ylabel('Loss')\n",
    "    plt.legend()\n",
    "    \n",
    "    # Plot AUC\n",
    "    plt.subplot(2, 2, 4)\n",
    "    plt.plot(df['epoch'], df['test_auc'], label='AUC')\n",
    "    plt.title(f'{model_name} - AUC Score')\n",
    "    plt.xlabel('Epoch')\n",
    "    plt.ylabel('AUC (%)')\n",
    "    plt.legend()\n",
    "    \n",
    "    plt.tight_layout()\n",
    "    return plt\n",
    "\n",
    "def create_metrics_heatmap(df, model_name):\n",
    "    \"\"\"Create heatmap of metrics evolution\"\"\"\n",
    "    metrics = ['test_acc', 'test_precision', 'test_recall', \n",
    "              'test_specificity', 'test_f1', 'test_auc']\n",
    "    \n",
    "    # Create matrix for heatmap\n",
    "    metrics_data = df[metrics].values.T\n",
    "    \n",
    "    plt.figure(figsize=(20, 6))\n",
    "    sns.heatmap(metrics_data, \n",
    "                xticklabels=df['epoch'],\n",
    "                yticklabels=[m.replace('test_', '').upper() for m in metrics],\n",
    "                cmap='YlOrRd',\n",
    "                annot=True,\n",
    "                fmt='.1f',\n",
    "                cbar_kws={'label': 'Score (%)'})\n",
    "    \n",
    "    plt.title(f'{model_name} - Metrics Evolution Across Epochs')\n",
    "    plt.xlabel('Epoch')\n",
    "    plt.tight_layout()\n",
    "    return plt\n",
    "\n",
    "def main():\n",
    "    # Load test dataset (same as before)\n",
    "    data_dir = '../chest_xray/train'\n",
    "    valid_dir = '../chest_xray/val'\n",
    "    test_dir = '../chest_xray/test'\n",
    "\n",
    "    filepaths, labels = get_data(data_dir)\n",
    "    valid_filepaths, valid_labels = get_data(valid_dir)\n",
    "    test_filepaths, test_labels = get_data(test_dir)\n",
    "\n",
    "    train_df = pd.DataFrame({'filepaths': filepaths, 'labels': labels})\n",
    "    valid_df = pd.DataFrame({'filepaths': valid_filepaths, 'labels': valid_labels})\n",
    "    test_df = pd.DataFrame({'filepaths': test_filepaths, 'labels': test_labels})\n",
    "\n",
    "    models_to_evaluate = [\n",
    "        'vit-chest-xray',\n",
    "        # 'efficientnet_b4'\n",
    "    ]\n",
    "\n",
    "    all_results = []\n",
    "    \n",
    "    for model_name in models_to_evaluate:\n",
    "        # Initialize model to get input size\n",
    "        temp_model = ChestXRayViT()\n",
    "        \n",
    "        # Create test loader\n",
    "        _, _, test_loader, _ = create_data_loaders(\n",
    "            train_df, valid_df, test_df, \n",
    "            batch_size=16\n",
    "        )\n",
    "        \n",
    "        # Evaluate all epochs\n",
    "        checkpoint_dir = f'../checkpoints/{model_name}'\n",
    "        results_df = evaluate_all_epochs(model_name, checkpoint_dir, test_loader)\n",
    "        \n",
    "        # Generate and save plots\n",
    "        plt = plot_epoch_metrics(results_df, model_name)\n",
    "        plt.savefig(f'../checkpoints/{model_name}/epoch_evaluation.png')\n",
    "        plt.close()\n",
    "        \n",
    "        # Generate and save heatmap\n",
    "        plt = create_metrics_heatmap(results_df, model_name)\n",
    "        plt.savefig(f'../checkpoints/{model_name}/metrics_heatmap.png')\n",
    "        plt.close()\n",
    "        \n",
    "        # Save results to CSV\n",
    "        results_df.to_csv(f'../checkpoints/{model_name}/epoch_evaluation.csv', index=False)\n",
    "        \n",
    "        all_results.append(results_df)\n",
    "        \n",
    "        # Print best epoch\n",
    "        best_epoch = results_df.loc[results_df['test_acc'].idxmax()]\n",
    "        print(f\"\\nBest epoch for {model_name}:\")\n",
    "        print(f\"Epoch: {best_epoch['epoch']}\")\n",
    "        print(f\"Test Accuracy: {best_epoch['test_acc']:.2f}%\")\n",
    "        print(f\"Test AUC: {best_epoch['test_auc']:.2f}%\")\n",
    "        print(f\"Test Specificity: {best_epoch['test_specificity']:.2f}%\")\n",
    "        print(f\"Test F1-Score: {best_epoch['test_f1']:.2f}%\")\n",
    "    \n",
    "    # Combine all results\n",
    "    final_results = pd.concat(all_results, ignore_index=True)\n",
    "    \n",
    "    # Save combined results\n",
    "    final_results.to_csv('../checkpoints/all_models_evaluation.csv', index=False)\n",
    "    \n",
    "    return final_results\n",
    "\n",
    "if __name__ == \"__main__\":\n",
    "    results = main()\n",
    "    \n",
    "    # Display summary statistics\n",
    "    print(\"\\nSummary Statistics:\")\n",
    "    metrics = ['test_acc', 'test_auc', 'test_specificity', \n",
    "              'test_precision', 'test_recall', 'test_f1']\n",
    "    \n",
    "    summary = results.groupby('model_name')[metrics].agg(['max', 'mean', 'std']).round(2)\n",
    "    print(summary)\n",
    "    \n",
    "    # Save detailed summary\n",
    "    summary.to_csv('model_summary_statistics.csv')"
   ]
  },
  {
   "cell_type": "markdown",
   "metadata": {},
   "source": [
    "## Essemble model validation"
   ]
  },
  {
   "cell_type": "code",
   "execution_count": 11,
   "metadata": {},
   "outputs": [
    {
     "name": "stderr",
     "output_type": "stream",
     "text": [
      "Some weights of ViTForImageClassification were not initialized from the model checkpoint at google/vit-base-patch16-224 and are newly initialized because the shapes did not match:\n",
      "- classifier.bias: found shape torch.Size([1000]) in the checkpoint and torch.Size([2]) in the model instantiated\n",
      "- classifier.weight: found shape torch.Size([1000, 768]) in the checkpoint and torch.Size([2, 768]) in the model instantiated\n",
      "You should probably TRAIN this model on a down-stream task to be able to use it for predictions and inference.\n",
      "c:\\ProgramData\\mne-python\\1.5.1_0\\envs\\CU121\\lib\\site-packages\\torchvision\\models\\_utils.py:208: UserWarning: The parameter 'pretrained' is deprecated since 0.13 and may be removed in the future, please use 'weights' instead.\n",
      "  warnings.warn(\n",
      "c:\\ProgramData\\mne-python\\1.5.1_0\\envs\\CU121\\lib\\site-packages\\torchvision\\models\\_utils.py:223: UserWarning: Arguments other than a weight enum or `None` for 'weights' are deprecated since 0.13 and may be removed in the future. The current behavior is equivalent to passing `weights=EfficientNet_B0_Weights.IMAGENET1K_V1`. You can also use `weights=EfficientNet_B0_Weights.DEFAULT` to get the most up-to-date weights.\n",
      "  warnings.warn(msg)\n",
      "100%|██████████| 624/624 [00:12<00:00, 49.28it/s]\n"
     ]
    },
    {
     "data": {
      "image/png": "[encoded data removed]",
      "text/plain": [
       "<Figure size 600x600 with 1 Axes>"
      ]
     },
     "metadata": {},
     "output_type": "display_data"
    },
    {
     "name": "stdout",
     "output_type": "stream",
     "text": [
      "Best Threshold: 0.44\n",
      "{'accuracy': 0.9583333333333334, 'precision': 0.9690721649484536, 'recall': 0.9641025641025641, 'specificity': 0.9487179487179487, 'f1': 0.9665809768637532, 'auc': 0.9897874205566514}\n"
     ]
    },
    {
     "name": "stderr",
     "output_type": "stream",
     "text": [
      "100%|██████████| 624/624 [00:12<00:00, 49.59it/s]\n"
     ]
    },
    {
     "data": {
      "image/png": "[encoded data removed]",
      "text/plain": [
       "<Figure size 500x500 with 1 Axes>"
      ]
     },
     "metadata": {},
     "output_type": "display_data"
    },
    {
     "name": "stdout",
     "output_type": "stream",
     "text": [
      "Accuracy: 0.9583\n",
      "Precision: 0.9691\n",
      "Recall: 0.9641\n",
      "Specificity: 0.9487\n",
      "F1 Score: 0.9666\n",
      "AUC: 0.9564\n"
     ]
    }
   ],
   "source": [
    "import os\n",
    "import torch\n",
    "import pandas as pd\n",
    "import numpy as np\n",
    "from pathlib import Path\n",
    "from tqdm import tqdm\n",
    "from sklearn.metrics import (accuracy_score, precision_score, recall_score, \n",
    "                           f1_score, roc_auc_score, confusion_matrix)\n",
    "import matplotlib.pyplot as plt\n",
    "import seaborn as sns\n",
    "from sklearn.metrics import roc_curve\n",
    "from vitmodel import ChestXRayViT, create_data_loaders, get_data\n",
    "from PNModel import ChestXRayModel\n",
    "from PIL import Image\n",
    "from torchvision import transforms\n",
    "\n",
    "\n",
    "\n",
    "device = torch.device('cuda' if torch.cuda.is_available() else 'cpu')\n",
    " # Load test dataset (same as before)\n",
    "data_dir = '../chest_xray/train'\n",
    "valid_dir = '../chest_xray/val'\n",
    "test_dir = '../chest_xray/test'\n",
    "\n",
    "test_filepaths, test_labels = get_data(test_dir)\n",
    "\n",
    "test_df = pd.DataFrame({'filepaths': test_filepaths, 'labels': test_labels})\n",
    "\n",
    "classfierVit = ChestXRayViT().to(device)\n",
    "classfierVit.load_state_dict(torch.load('./models/vit_epoch_16.pth', map_location=device,weights_only=False)['model_state_dict'])\n",
    "\n",
    "classfierVit.eval()\n",
    "\n",
    "classfierEff = ChestXRayModel().to(device)\n",
    "classfierEff.load_state_dict(torch.load('./models/epoch_4.pth', map_location=device,weights_only=False)['model_state_dict'])\n",
    "classfierEff.eval()\n",
    "\n",
    "\n",
    "\n",
    "# Evaluate the model on test dataset\n",
    "all_labels = []\n",
    "all_probs = []\n",
    "\n",
    "for f in tqdm( test_filepaths):\n",
    "    img = Image.open(f).convert('RGB')\n",
    "    img = transforms.Resize((224, 224))(img)\n",
    "    img = transforms.ToTensor()(img)\n",
    "    img = transforms.Normalize(mean=[0.485, 0.456, 0.406], std=[0.229, 0.224, 0.225])(img)\n",
    "    img = img.unsqueeze(0).to(device)\n",
    "    outputsVit = classfierVit(img)\n",
    "    outputsEff = classfierEff(img)\n",
    "    outputs = torch.mean(torch.stack([outputsVit, outputsEff]), dim=0)\n",
    "    probabilities = torch.softmax(outputs, dim=1)\n",
    "    all_probs.append(probabilities[0][1].item())    \n",
    "    label =1 if test_df[test_df['filepaths'] == f]['labels'].values[0] == 'PNEUMONIA' else 0\n",
    "    all_labels.append(label)\n",
    "\n",
    "# plot ROC curve\n",
    "fpr, tpr, _ = roc_curve(all_labels, all_probs)\n",
    "auc_score = roc_auc_score(all_labels, all_probs)\n",
    "plt.figure(figsize=(6, 6))\n",
    "plt.plot(fpr, tpr, color='darkorange', lw=2, label='ROC curve')\n",
    "plt.plot([0, 1], [0, 1], color='navy', lw=2, linestyle='--')\n",
    "plt.xlabel('False Positive Rate')\n",
    "plt.ylabel('True Positive Rate')\n",
    "plt.title(f'ROC Curve (AUC = {auc_score:.3f})')\n",
    "plt.legend(loc='lower right')\n",
    "\n",
    "plt.tight_layout()\n",
    "plt.show()\n",
    "\n",
    "# get the best AUC threshold\n",
    "thresholds = np.arange(0, 1, 0.01)\n",
    "best_threshold = 0\n",
    "best_f1 = 0\n",
    "for t in thresholds:\n",
    "    preds = [1 if p > t else 0 for p in all_probs]\n",
    "    f1 = f1_score(all_labels, preds)\n",
    "    if f1 > best_f1:\n",
    "        best_f1 = f1\n",
    "        best_threshold = t\n",
    "\n",
    "print(f\"Best Threshold: {best_threshold:.2f}\")\n",
    "\n",
    "# Calculate metrics with best threshold\n",
    "best_preds = [1 if p > best_threshold else 0 for p in all_probs]\n",
    "best_metrics = {\n",
    "    'accuracy': accuracy_score(all_labels, best_preds),\n",
    "    'precision': precision_score(all_labels, best_preds),\n",
    "    'recall': recall_score(all_labels, best_preds),\n",
    "    'specificity': calculate_specificity(all_labels, best_preds),\n",
    "    'f1': f1_score(all_labels, best_preds),\n",
    "    'auc': roc_auc_score(all_labels, all_probs)\n",
    "}\n",
    "print (best_metrics)\n",
    "\n",
    "# Evaluate the model on test dataset\n",
    "all_preds = []\n",
    "\n",
    "for f in tqdm( test_filepaths):\n",
    "    img = Image.open(f).convert('RGB')\n",
    "    img = transforms.Resize((224, 224))(img)\n",
    "    img = transforms.ToTensor()(img)\n",
    "    img = transforms.Normalize(mean=[0.485, 0.456, 0.406], std=[0.229, 0.224, 0.225])(img)\n",
    "    img = img.unsqueeze(0).to(device)\n",
    "    outputsVit = classfierVit(img)\n",
    "    outputsEff = classfierEff(img)\n",
    "    outputs = torch.mean(torch.stack([outputsVit, outputsEff]), dim=0)  \n",
    "    probabilities = torch.softmax(outputs, dim=1)\n",
    "    prediction = probabilities[0][1].item()\n",
    "    prediction = 1 if prediction > best_threshold else 0\n",
    "    all_preds.append(prediction)\n",
    "    \n",
    "cm = confusion_matrix(all_labels, all_preds)\n",
    "\n",
    "# Calculate metrics\n",
    "metrics = {\n",
    "    'accuracy': accuracy_score(all_labels, all_preds),\n",
    "    'precision': precision_score(all_labels, all_preds),\n",
    "    'recall': recall_score(all_labels, all_preds),\n",
    "    'specificity': calculate_specificity(all_labels, all_preds),\n",
    "    'f1': f1_score(all_labels, all_preds),\n",
    "    'auc': roc_auc_score(all_labels, all_preds),\n",
    "    'cm': cm\n",
    "}\n",
    "\n",
    "# plot confusion matrix\n",
    "cm = metrics['cm']\n",
    "plt.figure(figsize=(5, 5))\n",
    "\n",
    "plt.rcParams.update({'font.size': 18})  # Set base font size\n",
    "sns.heatmap(cm, annot=True, fmt='g', cmap='Blues', cbar=False,\n",
    "            xticklabels=['Normal', 'Pneumonia'],\n",
    "            yticklabels=['Normal', 'Pneumonia'],\n",
    "            annot_kws={'size': 18})\n",
    "plt.xlabel('Prediction', fontsize=18)\n",
    "plt.ylabel('Truth', fontsize=18)\n",
    "plt.tight_layout()\n",
    "plt.show()\n",
    "\n",
    "\n",
    "# Print metrics\n",
    "print(f\"Accuracy: {metrics['accuracy']:.4f}\")\n",
    "print(f\"Precision: {metrics['precision']:.4f}\")\n",
    "print(f\"Recall: {metrics['recall']:.4f}\")\n",
    "print(f\"Specificity: {metrics['specificity']:.4f}\")\n",
    "print(f\"F1 Score: {metrics['f1']:.4f}\")\n",
    "print(f\"AUC: {metrics['auc']:.4f}\")\n",
    "\n",
    "\n"
   ]
  }
 ],
 "metadata": {
  "kaggle": {
   "accelerator": "none",
   "dataSources": [
    {
     "datasetId": 17810,
     "sourceId": 23812,
     "sourceType": "datasetVersion"
    }
   ],
   "dockerImageVersionId": 29867,
   "isGpuEnabled": false,
   "isInternetEnabled": false,
   "language": "python",
   "sourceType": "notebook"
  },
  "kernelspec": {
   "display_name": "CU121",
   "language": "python",
   "name": "python3"
  },
  "language_info": {
   "codemirror_mode": {
    "name": "ipython",
    "version": 3
   },
   "file_extension": ".py",
   "mimetype": "text/x-python",
   "name": "python",
   "nbconvert_exporter": "python",
   "pygments_lexer": "ipython3",
   "version": "3.10.14"
  }
 },
 "nbformat": 4,
 "nbformat_minor": 4
}
